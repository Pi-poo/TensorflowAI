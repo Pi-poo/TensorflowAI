{
  "nbformat": 4,
  "nbformat_minor": 0,
  "metadata": {
    "kernelspec": {
      "name": "python36",
      "display_name": "Python 3.6",
      "language": "python"
    },
    "language_info": {
      "mimetype": "text/x-python",
      "nbconvert_exporter": "python",
      "name": "python",
      "pygments_lexer": "ipython3",
      "version": "3.6.6",
      "file_extension": ".py",
      "codemirror_mode": {
        "version": 3,
        "name": "ipython"
      }
    },
    "colab": {
      "name": "2_6_random.ipynb",
      "provenance": [],
      "include_colab_link": true
    }
  },
  "cells": [
    {
      "cell_type": "markdown",
      "metadata": {
        "id": "view-in-github",
        "colab_type": "text"
      },
      "source": [
        "<a href=\"https://colab.research.google.com/github/joohoshin/TensorflowAI/blob/main/2_6_random.ipynb\" target=\"_parent\"><img src=\"https://colab.research.google.com/assets/colab-badge.svg\" alt=\"Open In Colab\"/></a>"
      ]
    },
    {
      "cell_type": "markdown",
      "metadata": {
        "collapsed": true,
        "id": "lm4ooLabmWhS"
      },
      "source": [
        "# random \n",
        "* random 라이브러리를 불러오면 난수를 발생할 수 있다\n",
        "* 정수의 난수 생성은 randint()를 사용한다. "
      ]
    },
    {
      "cell_type": "code",
      "metadata": {
        "trusted": true,
        "id": "r52XgEdwmWhT",
        "colab": {
          "base_uri": "https://localhost:8080/"
        },
        "outputId": "1ccbdfa1-a69a-4500-a03a-b2dc2fe775b9"
      },
      "source": [
        "# 난수 발생\n",
        "import random \n",
        "print(random.randint(1,2))"
      ],
      "execution_count": null,
      "outputs": [
        {
          "output_type": "stream",
          "text": [
            "1\n"
          ],
          "name": "stdout"
        }
      ]
    },
    {
      "cell_type": "code",
      "metadata": {
        "colab": {
          "base_uri": "https://localhost:8080/"
        },
        "id": "-IASa5SzH_N0",
        "outputId": "8bcbcabf-5ec5-4127-8d86-37a78a38de1c"
      },
      "source": [
        "from random import randint\r\n",
        "print(randint(1,2))"
      ],
      "execution_count": null,
      "outputs": [
        {
          "output_type": "stream",
          "text": [
            "2\n"
          ],
          "name": "stdout"
        }
      ]
    },
    {
      "cell_type": "markdown",
      "metadata": {
        "id": "P_tQYQQfmWha"
      },
      "source": [
        "* 지금까지 배운것들을 활용하면 숫자 맞추기 게임을 만들 수 있다.\n",
        "* 1~100 사이의 숫자를 큰지 작은지 알려주며 맞추도록 유도한다. "
      ]
    },
    {
      "cell_type": "code",
      "metadata": {
        "trusted": true,
        "id": "3AoBcNp2mWhb",
        "colab": {
          "base_uri": "https://localhost:8080/"
        },
        "outputId": "9f659aca-105d-4edf-ebf7-90afdbebc94e"
      },
      "source": [
        "import random\n",
        "\n",
        "pick = random.randint(1,100)\n",
        "for count in range(10):  #최대 10번까지 입력\n",
        "    print()\n",
        "    number = int(input('숫자를 입력하세요: '))\n",
        "    if number==pick: \n",
        "        print('정답입니다')\n",
        "        break\n",
        "    elif number <pick:\n",
        "        print('더 큰 숫자입니다. ')\n",
        "        if count==9:\n",
        "            print('아쉽게도 못 맞추셨군요')\n",
        "    elif number >pick:\n",
        "        print('더 작은 숫자입니다')\n",
        "        if count==9:\n",
        "            print('아쉽게도 못 맞추셨군요')"
      ],
      "execution_count": null,
      "outputs": [
        {
          "output_type": "stream",
          "text": [
            "\n",
            "숫자를 입력하세요: 10\n",
            "더 큰 숫자입니다. \n",
            "\n",
            "숫자를 입력하세요: 100\n",
            "더 작은 숫자입니다\n",
            "\n",
            "숫자를 입력하세요: 50\n",
            "더 큰 숫자입니다. \n",
            "\n",
            "숫자를 입력하세요: 75\n",
            "더 작은 숫자입니다\n",
            "\n",
            "숫자를 입력하세요: 60\n",
            "더 큰 숫자입니다. \n",
            "\n",
            "숫자를 입력하세요: 65\n",
            "더 큰 숫자입니다. \n",
            "\n",
            "숫자를 입력하세요: 68\n",
            "더 작은 숫자입니다\n",
            "\n",
            "숫자를 입력하세요: 67\n",
            "정답입니다\n"
          ],
          "name": "stdout"
        }
      ]
    }
  ]
}