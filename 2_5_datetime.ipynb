{
  "nbformat": 4,
  "nbformat_minor": 0,
  "metadata": {
    "kernelspec": {
      "display_name": "Python 3",
      "language": "python",
      "name": "python3"
    },
    "language_info": {
      "codemirror_mode": {
        "name": "ipython",
        "version": 3
      },
      "file_extension": ".py",
      "mimetype": "text/x-python",
      "name": "python",
      "nbconvert_exporter": "python",
      "pygments_lexer": "ipython3",
      "version": "3.7.3"
    },
    "colab": {
      "name": "2_5_datetime.ipynb",
      "provenance": [],
      "include_colab_link": true
    }
  },
  "cells": [
    {
      "cell_type": "markdown",
      "metadata": {
        "id": "view-in-github",
        "colab_type": "text"
      },
      "source": [
        "<a href=\"https://colab.research.google.com/github/joohoshin/TensorflowAI/blob/main/2_5_datetime.ipynb\" target=\"_parent\"><img src=\"https://colab.research.google.com/assets/colab-badge.svg\" alt=\"Open In Colab\"/></a>"
      ]
    },
    {
      "cell_type": "markdown",
      "metadata": {
        "id": "s5yq-RKQ8KXf"
      },
      "source": [
        "# 날짜 다루기\n",
        "* https://www.programiz.com/python-programming/datetime\n",
        "* 파이썬에서는 datetime 라이브러리를 사용하여 날짜 및 시간을 다룬다. "
      ]
    },
    {
      "cell_type": "code",
      "metadata": {
        "id": "bZm8LjFu8KXg"
      },
      "source": [
        "from datetime import datetime"
      ],
      "execution_count": null,
      "outputs": []
    },
    {
      "cell_type": "markdown",
      "metadata": {
        "id": "LrKM-oTV8KXk"
      },
      "source": [
        "* datetime 라이브러리의 datetime 타입은 날짜와 시간을 모두 저장합니다\n",
        "* now()를 이용하여 현재 시간을 가져올 수 있습니다"
      ]
    },
    {
      "cell_type": "code",
      "metadata": {
        "id": "wGMWrZ5O8KXk",
        "colab": {
          "base_uri": "https://localhost:8080/"
        },
        "outputId": "981e78fd-2e5f-46d0-e718-6916ea076ad2"
      },
      "source": [
        "print(datetime.now())\n",
        "datetime.now()"
      ],
      "execution_count": null,
      "outputs": [
        {
          "output_type": "stream",
          "text": [
            "2021-02-24 21:58:42.607533\n"
          ],
          "name": "stdout"
        },
        {
          "output_type": "execute_result",
          "data": {
            "text/plain": [
              "datetime.datetime(2021, 2, 24, 21, 58, 42, 610147)"
            ]
          },
          "metadata": {
            "tags": []
          },
          "execution_count": 3
        }
      ]
    },
    {
      "cell_type": "code",
      "metadata": {
        "id": "bbshtfGi8KXo",
        "colab": {
          "base_uri": "https://localhost:8080/"
        },
        "outputId": "08908e6b-b6b2-4b62-db3c-77ca4b7d30b2"
      },
      "source": [
        "t = datetime.now()\n",
        "type(t)"
      ],
      "execution_count": null,
      "outputs": [
        {
          "output_type": "execute_result",
          "data": {
            "text/plain": [
              "datetime.datetime"
            ]
          },
          "metadata": {
            "tags": []
          },
          "execution_count": 4
        }
      ]
    },
    {
      "cell_type": "markdown",
      "metadata": {
        "id": "OPEDJy1f8KXr"
      },
      "source": [
        "* 날짜를 입력하여 직접 만들수 있습니다"
      ]
    },
    {
      "cell_type": "code",
      "metadata": {
        "id": "-GIlf5W48KXs",
        "colab": {
          "base_uri": "https://localhost:8080/"
        },
        "outputId": "16050620-d216-4520-eaa7-d4639840996e"
      },
      "source": [
        "강의시작일 = datetime(2020,3,15)\n",
        "print('강의시작일: {}'.format(강의시작일))\n",
        "\n",
        "퀴즈시간 = datetime(2020, 4, 24, 11, 0 )\n",
        "print('퀴즈: {}'.format(퀴즈시간))"
      ],
      "execution_count": null,
      "outputs": [
        {
          "output_type": "stream",
          "text": [
            "강의시작일: 2020-03-15 00:00:00\n",
            "퀴즈: 2020-04-24 11:00:00\n"
          ],
          "name": "stdout"
        }
      ]
    },
    {
      "cell_type": "markdown",
      "metadata": {
        "id": "k2AGs9ln8KXv"
      },
      "source": [
        "* 날짜만 가져올 때는 date(), 시간만 가져올 때는 time()을 사용하면 됩니다 "
      ]
    },
    {
      "cell_type": "code",
      "metadata": {
        "id": "unq_tnS38KXv",
        "colab": {
          "base_uri": "https://localhost:8080/"
        },
        "outputId": "d072807c-37a3-4e01-cc01-6c8cc7155bd4"
      },
      "source": [
        "퀴즈날짜 = 퀴즈시간.date()\n",
        "print(퀴즈날짜)\n",
        "\n",
        "퀴즈시작시간 = 퀴즈시간.time()\n",
        "print(퀴즈시작시간)"
      ],
      "execution_count": null,
      "outputs": [
        {
          "output_type": "stream",
          "text": [
            "2020-04-24\n",
            "11:00:00\n"
          ],
          "name": "stdout"
        }
      ]
    },
    {
      "cell_type": "markdown",
      "metadata": {
        "id": "Y_F2BQg-8KXx"
      },
      "source": [
        "* 문자로부터 변환도 가능합니다. 이때에는 어떤 모양인지 입력이 필요합니다\n",
        "* 이때에는 strptime() 을 사용합니다. \n",
        "* %Y는 네자리 년도, %y는 2자리 연도를 의미, %m은 월, %d는 일을 의미합니다. "
      ]
    },
    {
      "cell_type": "code",
      "metadata": {
        "id": "GcU_WX1D8KXy",
        "colab": {
          "base_uri": "https://localhost:8080/"
        },
        "outputId": "82a151d2-6c5d-4167-d556-5f46e28610bb"
      },
      "source": [
        "date1 = '2020-6-23'\n",
        "강의종료일1 = datetime.strptime(date1, '%Y-%m-%d')\n",
        "print(강의종료일1)\n",
        "type(강의종료일1)"
      ],
      "execution_count": null,
      "outputs": [
        {
          "output_type": "stream",
          "text": [
            "2020-06-23 00:00:00\n"
          ],
          "name": "stdout"
        },
        {
          "output_type": "execute_result",
          "data": {
            "text/plain": [
              "datetime.datetime"
            ]
          },
          "metadata": {
            "tags": []
          },
          "execution_count": 8
        }
      ]
    },
    {
      "cell_type": "code",
      "metadata": {
        "id": "h7yWBS3g8KX0",
        "colab": {
          "base_uri": "https://localhost:8080/"
        },
        "outputId": "29681d91-429b-4c1c-cc0c-6b7bb2923a73"
      },
      "source": [
        "date2 = '200623'\n",
        "강의종료일2 = datetime.strptime(date2, '%y%m%d')\n",
        "print(강의종료일2)"
      ],
      "execution_count": null,
      "outputs": [
        {
          "output_type": "stream",
          "text": [
            "2020-06-23 00:00:00\n"
          ],
          "name": "stdout"
        }
      ]
    },
    {
      "cell_type": "markdown",
      "metadata": {
        "id": "Ygu-bUEb8KX2"
      },
      "source": [
        "* 문자로 변환시에는 strftime()을 사용합니다"
      ]
    },
    {
      "cell_type": "code",
      "metadata": {
        "id": "yfk7OWvk8KX3",
        "colab": {
          "base_uri": "https://localhost:8080/",
          "height": 34
        },
        "outputId": "4286f3a6-1da7-45a1-c5ad-72dfc1376a6d"
      },
      "source": [
        "type(강의종료일2)"
      ],
      "execution_count": null,
      "outputs": [
        {
          "output_type": "execute_result",
          "data": {
            "text/plain": [
              "datetime.datetime"
            ]
          },
          "metadata": {
            "tags": []
          },
          "execution_count": 8
        }
      ]
    },
    {
      "cell_type": "code",
      "metadata": {
        "id": "7infkTUc8KX5"
      },
      "source": [
        "str_date = 강의종료일2.strftime('%Y-%m-%d')"
      ],
      "execution_count": null,
      "outputs": []
    },
    {
      "cell_type": "code",
      "metadata": {
        "id": "1WnAtoOE8KYA",
        "colab": {
          "base_uri": "https://localhost:8080/"
        },
        "outputId": "46063a0b-df93-4c76-ac0d-6ae843fda1ee"
      },
      "source": [
        "type(str_date)"
      ],
      "execution_count": null,
      "outputs": [
        {
          "output_type": "execute_result",
          "data": {
            "text/plain": [
              "str"
            ]
          },
          "metadata": {
            "tags": []
          },
          "execution_count": 12
        }
      ]
    },
    {
      "cell_type": "code",
      "metadata": {
        "id": "M4b56T-v8KYC",
        "colab": {
          "base_uri": "https://localhost:8080/"
        },
        "outputId": "e96722cc-58fc-4952-e426-5bb94910bfc3"
      },
      "source": [
        "print(str_date)"
      ],
      "execution_count": null,
      "outputs": [
        {
          "output_type": "stream",
          "text": [
            "2020-06-23\n"
          ],
          "name": "stdout"
        }
      ]
    },
    {
      "cell_type": "code",
      "metadata": {
        "id": "OINTxhiK8KYF",
        "colab": {
          "base_uri": "https://localhost:8080/"
        },
        "outputId": "89febe62-1076-45d9-e563-d14d9edc142a"
      },
      "source": [
        "str_date2 = 강의종료일2.strftime('%Y/%m/%d')\n",
        "print(str_date2)"
      ],
      "execution_count": null,
      "outputs": [
        {
          "output_type": "stream",
          "text": [
            "2020/06/23\n"
          ],
          "name": "stdout"
        }
      ]
    },
    {
      "cell_type": "markdown",
      "metadata": {
        "id": "yQotHjIJ8KYH"
      },
      "source": [
        "### 날짜 연산\n",
        "* timedelta 함수를 사용합니다\n"
      ]
    },
    {
      "cell_type": "code",
      "metadata": {
        "id": "J1NpJOHC8KYI"
      },
      "source": [
        "from datetime import timedelta, datetime   # from 라이브러리명 import 가져올 함수명"
      ],
      "execution_count": null,
      "outputs": []
    },
    {
      "cell_type": "code",
      "metadata": {
        "id": "3Pf_uisH8KYJ"
      },
      "source": [
        "강의시작일 = datetime(2020,3,15)\n",
        "date1 = '2020-06-23'\n",
        "강의종료일 = datetime.strptime(date1, '%Y-%m-%d')"
      ],
      "execution_count": null,
      "outputs": []
    },
    {
      "cell_type": "code",
      "metadata": {
        "id": "R_n9hosb8KYL",
        "colab": {
          "base_uri": "https://localhost:8080/"
        },
        "outputId": "8cd4f251-ed20-4af4-ba70-dbe2c51ef324"
      },
      "source": [
        "print(강의종료일 - 강의시작일)"
      ],
      "execution_count": null,
      "outputs": [
        {
          "output_type": "stream",
          "text": [
            "100 days, 0:00:00\n"
          ],
          "name": "stdout"
        }
      ]
    },
    {
      "cell_type": "code",
      "metadata": {
        "id": "BHm38EH48KYN"
      },
      "source": [
        "t=강의종료일 - 강의시작일"
      ],
      "execution_count": null,
      "outputs": []
    },
    {
      "cell_type": "code",
      "metadata": {
        "id": "Vw_ih3jz8KYP",
        "colab": {
          "base_uri": "https://localhost:8080/"
        },
        "outputId": "ad6b386a-4fa3-4c17-d775-daa40b2fa170"
      },
      "source": [
        "type(t)"
      ],
      "execution_count": null,
      "outputs": [
        {
          "output_type": "execute_result",
          "data": {
            "text/plain": [
              "datetime.timedelta"
            ]
          },
          "metadata": {
            "tags": []
          },
          "execution_count": 39
        }
      ]
    },
    {
      "cell_type": "code",
      "metadata": {
        "id": "PmPrZXkC8KYS",
        "colab": {
          "base_uri": "https://localhost:8080/"
        },
        "outputId": "730aca95-d3b7-4996-c720-0d52553a1c6d"
      },
      "source": [
        "days = t.days\n",
        "print(days)\n",
        "type(days)"
      ],
      "execution_count": null,
      "outputs": [
        {
          "output_type": "stream",
          "text": [
            "100\n"
          ],
          "name": "stdout"
        },
        {
          "output_type": "execute_result",
          "data": {
            "text/plain": [
              "int"
            ]
          },
          "metadata": {
            "tags": []
          },
          "execution_count": 40
        }
      ]
    },
    {
      "cell_type": "code",
      "metadata": {
        "id": "rcdqCmJZ8KYU"
      },
      "source": [
        "퀴즈시작 = datetime(2020,4,24,11)\n",
        "퀴즈종료 = datetime(2020,4,24,13)\n",
        "t= 퀴즈종료 - 퀴즈시작"
      ],
      "execution_count": null,
      "outputs": []
    },
    {
      "cell_type": "code",
      "metadata": {
        "id": "miJV18iF8KYV",
        "colab": {
          "base_uri": "https://localhost:8080/"
        },
        "outputId": "7d563112-fe29-406f-8b0b-f75a373a6738"
      },
      "source": [
        "t.seconds"
      ],
      "execution_count": null,
      "outputs": [
        {
          "output_type": "execute_result",
          "data": {
            "text/plain": [
              "7200"
            ]
          },
          "metadata": {
            "tags": []
          },
          "execution_count": 42
        }
      ]
    },
    {
      "cell_type": "code",
      "metadata": {
        "id": "CA9BK8zq8KYX",
        "colab": {
          "base_uri": "https://localhost:8080/"
        },
        "outputId": "06912cc1-fc88-44e1-95f8-311b2a823a71"
      },
      "source": [
        "print('시험시간은 {} 시간입니다. '.format(t.seconds//3600))"
      ],
      "execution_count": null,
      "outputs": [
        {
          "output_type": "stream",
          "text": [
            "시험시간은 2 시간입니다. \n"
          ],
          "name": "stdout"
        }
      ]
    },
    {
      "cell_type": "markdown",
      "metadata": {
        "id": "j0aTUY0a8KYZ"
      },
      "source": [
        "* weekday() 함수를 사용해서 요일을 가져올 수 있습니다. 월:0 ~일:6"
      ]
    },
    {
      "cell_type": "code",
      "metadata": {
        "id": "1vYNIsFw8KYa",
        "colab": {
          "base_uri": "https://localhost:8080/"
        },
        "outputId": "06137115-8e2f-4529-a716-f2e3ab8e690d"
      },
      "source": [
        "퀴즈시작.weekday()"
      ],
      "execution_count": null,
      "outputs": [
        {
          "output_type": "execute_result",
          "data": {
            "text/plain": [
              "4"
            ]
          },
          "metadata": {
            "tags": []
          },
          "execution_count": 44
        }
      ]
    },
    {
      "cell_type": "markdown",
      "metadata": {
        "id": "0Ma1SBWs8KYb"
      },
      "source": [
        "# 활용\n",
        "* D - day를 알려주는 코드를 만들어봅시다"
      ]
    },
    {
      "cell_type": "code",
      "metadata": {
        "id": "NTiFl9X88KYc"
      },
      "source": [
        "from datetime import datetime, timedelta"
      ],
      "execution_count": null,
      "outputs": []
    },
    {
      "cell_type": "code",
      "metadata": {
        "id": "ljlk_Dni8KYe",
        "colab": {
          "base_uri": "https://localhost:8080/"
        },
        "outputId": "1d488d77-eb26-461b-841b-6e3053c5e442"
      },
      "source": [
        "d_day = input('당신에게 중요한 날은? ')\n",
        "d_date = input('언제인가요? (Ex 2021-01-01) ')"
      ],
      "execution_count": null,
      "outputs": [
        {
          "output_type": "stream",
          "text": [
            "당신에게 중요한 날은? 세미나\n",
            "언제인가요? (Ex 2021-01-01) 2021-06-01\n"
          ],
          "name": "stdout"
        }
      ]
    },
    {
      "cell_type": "code",
      "metadata": {
        "id": "gbd2GogI8KYi",
        "colab": {
          "base_uri": "https://localhost:8080/",
          "height": 35
        },
        "outputId": "1ad8b156-7cb7-4493-997e-0d6b775e280a"
      },
      "source": [
        "d_date"
      ],
      "execution_count": null,
      "outputs": [
        {
          "output_type": "execute_result",
          "data": {
            "application/vnd.google.colaboratory.intrinsic+json": {
              "type": "string"
            },
            "text/plain": [
              "'2021-06-01'"
            ]
          },
          "metadata": {
            "tags": []
          },
          "execution_count": 47
        }
      ]
    },
    {
      "cell_type": "code",
      "metadata": {
        "id": "bYC7CSmR8KYk"
      },
      "source": [
        "date = datetime.strptime(d_date, '%Y-%m-%d')"
      ],
      "execution_count": null,
      "outputs": []
    },
    {
      "cell_type": "code",
      "metadata": {
        "id": "Z44XUeIj8KYm"
      },
      "source": [
        "today = datetime.now()"
      ],
      "execution_count": null,
      "outputs": []
    },
    {
      "cell_type": "code",
      "metadata": {
        "id": "IYKoBFdI8KYo",
        "colab": {
          "base_uri": "https://localhost:8080/"
        },
        "outputId": "85479ab4-fd48-4b60-aac3-0df388da0515"
      },
      "source": [
        "today"
      ],
      "execution_count": null,
      "outputs": [
        {
          "output_type": "execute_result",
          "data": {
            "text/plain": [
              "datetime.datetime(2021, 2, 24, 22, 10, 37, 57255)"
            ]
          },
          "metadata": {
            "tags": []
          },
          "execution_count": 50
        }
      ]
    },
    {
      "cell_type": "code",
      "metadata": {
        "id": "DTrhrY1e8KYq"
      },
      "source": [
        "n_day = (date-today).days"
      ],
      "execution_count": null,
      "outputs": []
    },
    {
      "cell_type": "code",
      "metadata": {
        "id": "DYOjMEp98KYs",
        "colab": {
          "base_uri": "https://localhost:8080/"
        },
        "outputId": "a93148dc-c025-4e81-9cc1-d980e21b35a5"
      },
      "source": [
        "if n_day==0:\n",
        "    print('{}: 바로 오늘입니다. '.format(d_day))\n",
        "elif n_day>0:\n",
        "    print('{}: {}일 남았습니다. '.format(d_day, n_day))\n",
        "elif n_day<0:\n",
        "    print('{}: {}일 지났습니다. '.format(d_day, -n_day))"
      ],
      "execution_count": null,
      "outputs": [
        {
          "output_type": "stream",
          "text": [
            "세미나: 96일 남았습니다. \n"
          ],
          "name": "stdout"
        }
      ]
    },
    {
      "cell_type": "code",
      "metadata": {
        "id": "t8eNPXJS8KYu"
      },
      "source": [
        ""
      ],
      "execution_count": null,
      "outputs": []
    }
  ]
}