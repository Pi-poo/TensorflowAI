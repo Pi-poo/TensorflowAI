{
  "nbformat": 4,
  "nbformat_minor": 0,
  "metadata": {
    "colab": {
      "name": "13_2_웹 이미지 다운로드.ipynb",
      "provenance": [],
      "authorship_tag": "ABX9TyOBmDB2vYrIPKjQGXFjF4cq",
      "include_colab_link": true
    },
    "kernelspec": {
      "name": "python3",
      "display_name": "Python 3"
    },
    "language_info": {
      "name": "python"
    }
  },
  "cells": [
    {
      "cell_type": "markdown",
      "metadata": {
        "id": "view-in-github",
        "colab_type": "text"
      },
      "source": [
        "<a href=\"https://colab.research.google.com/github/joohoshin/TensorflowAI/blob/main/13_2_%EC%9B%B9_%EC%9D%B4%EB%AF%B8%EC%A7%80_%EB%8B%A4%EC%9A%B4%EB%A1%9C%EB%93%9C.ipynb\" target=\"_parent\"><img src=\"https://colab.research.google.com/assets/colab-badge.svg\" alt=\"Open In Colab\"/></a>"
      ]
    },
    {
      "cell_type": "markdown",
      "metadata": {
        "id": "hbE7qfbkCMY3"
      },
      "source": [
        "pixabay api로 이미지를 다운로드 해봅시다\n",
        "\n",
        "https://pixabay.com/api/docs/\n"
      ]
    },
    {
      "cell_type": "code",
      "metadata": {
        "id": "JT98m-ycCQot"
      },
      "source": [
        "import requests\n",
        "import json"
      ],
      "execution_count": null,
      "outputs": []
    },
    {
      "cell_type": "code",
      "metadata": {
        "colab": {
          "base_uri": "https://localhost:8080/"
        },
        "id": "bJJGDn8ZFFfq",
        "outputId": "e99ed7a5-a549-4746-a459-7c6dab49da51"
      },
      "source": [
        "from google.colab import drive\n",
        "drive.mount('/g')"
      ],
      "execution_count": null,
      "outputs": [
        {
          "output_type": "stream",
          "text": [
            "Drive already mounted at /g; to attempt to forcibly remount, call drive.mount(\"/g\", force_remount=True).\n"
          ],
          "name": "stdout"
        }
      ]
    },
    {
      "cell_type": "code",
      "metadata": {
        "id": "cDVOiqNUEizT"
      },
      "source": [
        "API_KEY='21021709-a4b547817146b76ed85498a4f'\n",
        "query = 'yellow+flower'\n",
        "URL = 'https://pixabay.com/api/?key={}&q={}&image_type=photo'.format(API_KEY, query)\n"
      ],
      "execution_count": null,
      "outputs": []
    },
    {
      "cell_type": "code",
      "metadata": {
        "colab": {
          "base_uri": "https://localhost:8080/",
          "height": 36
        },
        "id": "9IU3EvoOTCo1",
        "outputId": "cd001e1a-4cf4-4418-ff0e-dc78be7944a3"
      },
      "source": [
        "URL"
      ],
      "execution_count": null,
      "outputs": [
        {
          "output_type": "execute_result",
          "data": {
            "application/vnd.google.colaboratory.intrinsic+json": {
              "type": "string"
            },
            "text/plain": [
              "'https://pixabay.com/api/?key=21021709-a4b547817146b76ed85498a4f&q=yellow+flower&image_type=photo'"
            ]
          },
          "metadata": {
            "tags": []
          },
          "execution_count": 18
        }
      ]
    },
    {
      "cell_type": "code",
      "metadata": {
        "id": "Zwj0FbKiFQ2C"
      },
      "source": [
        "res = requests.get(URL)"
      ],
      "execution_count": null,
      "outputs": []
    },
    {
      "cell_type": "code",
      "metadata": {
        "colab": {
          "base_uri": "https://localhost:8080/"
        },
        "id": "1V326mWLFWjs",
        "outputId": "d6292b92-9537-482d-bd7a-3ef147b1bc95"
      },
      "source": [
        "res"
      ],
      "execution_count": null,
      "outputs": [
        {
          "output_type": "execute_result",
          "data": {
            "text/plain": [
              "<Response [200]>"
            ]
          },
          "metadata": {
            "tags": []
          },
          "execution_count": 20
        }
      ]
    },
    {
      "cell_type": "code",
      "metadata": {
        "colab": {
          "base_uri": "https://localhost:8080/"
        },
        "id": "DcXrQlJCFXas",
        "outputId": "8f71defa-77b3-448b-dbb4-21347453ba0d"
      },
      "source": [
        "res.content"
      ],
      "execution_count": null,
      "outputs": [
        {
          "output_type": "execute_result",
          "data": {
            "text/plain": [
              "b'{\"total\":29130,\"totalHits\":500,\"hits\":[{\"id\":3063284,\"pageURL\":\"https://pixabay.com/photos/rose-flower-petal-floral-noble-3063284/\",\"type\":\"photo\",\"tags\":\"rose, flower, petal\",\"previewURL\":\"https://cdn.pixabay.com/photo/2018/01/05/16/24/rose-3063284_150.jpg\",\"previewWidth\":150,\"previewHeight\":99,\"webformatURL\":\"https://pixabay.com/get/g7415c26ab232e14d1135707f2270c465c00c1be832423e4aa337d2ea4e69e9142a507affa74c9144abb066083c25099aeb3bda7c5e168e4daae06421bfa0d8a6_640.jpg\",\"webformatWidth\":640,\"webformatHeight\":426,\"largeImageURL\":\"https://pixabay.com/get/gd155d5191f12de35baa81515d649b6ae6c7374f9b5dd3b9200f0ed14046031f696b7f9321ce6354f5c6519f24811557c6a127dc9172946c6a1695e537ee60714_1280.jpg\",\"imageWidth\":6000,\"imageHeight\":4000,\"imageSize\":3574625,\"views\":853702,\"downloads\":543525,\"favorites\":1125,\"likes\":1300,\"comments\":289,\"user_id\":1564471,\"user\":\"anncapictures\",\"userImageURL\":\"https://cdn.pixabay.com/user/2015/11/27/06-58-54-609_250x250.jpg\"},{\"id\":3113318,\"pageURL\":\"https://pixabay.com/photos/sunflower-nature-flora-flower-3113318/\",\"type\":\"photo\",\"tags\":\"sunflower, nature, flora\",\"previewURL\":\"https://cdn.pixabay.com/photo/2018/01/28/11/24/sunflower-3113318_150.jpg\",\"previewWidth\":150,\"previewHeight\":99,\"webformatURL\":\"https://pixabay.com/get/gc8d3a75514c4afa7dad20ca4ba6f183fa29a82a9cceaba6ca4a82abb9c5772f7b6538156ab824d3987c47d048eea8a30a742aaff275abea208b93903188184f6_640.jpg\",\"webformatWidth\":640,\"webformatHeight\":426,\"largeImageURL\":\"https://pixabay.com/get/gcfbc4639afb24b19bfb4cab3d829294f1dc9d4b112a014f1c0368c6f1cf30360c3fe94bdba0c64c0fca0df3d3bd47b3bca6a1a7bab66170f338dde865628a6c1_1280.jpg\",\"imageWidth\":2736,\"imageHeight\":1824,\"imageSize\":1026006,\"views\":509494,\"downloads\":371495,\"favorites\":604,\"likes\":898,\"comments\":143,\"user_id\":7410713,\"user\":\"bichnguyenvo\",\"userImageURL\":\"https://cdn.pixabay.com/user/2017/12/16/10-28-39-199_250x250.jpg\"},{\"id\":2295434,\"pageURL\":\"https://pixabay.com/photos/spring-bird-bird-tit-spring-blue-2295434/\",\"type\":\"photo\",\"tags\":\"spring bird, bird, tit\",\"previewURL\":\"https://cdn.pixabay.com/photo/2017/05/08/13/15/spring-bird-2295434_150.jpg\",\"previewWidth\":150,\"previewHeight\":99,\"webformatURL\":\"https://pixabay.com/get/g49d898198ebc3ffb066262db32658470370f5a6703f752805df60bcc534534be90428246236eccdcef843b3c8082428f017212519c75f9b21378e617be8809d6_640.jpg\",\"webformatWidth\":640,\"webformatHeight\":426,\"largeImageURL\":\"https://pixabay.com/get/ga7a7a9126a7e3112d91ff04372198e174223290e7f6e2e201c9179820c2963af2702beee49d88fad1c4b7ee875d6a6dfa78e70c80d00df87cb05a25a7cb6bdad_1280.jpg\",\"imageWidth\":5363,\"imageHeight\":3575,\"imageSize\":2938651,\"views\":299024,\"downloads\":149594,\"favorites\":1430,\"likes\":1415,\"comments\":142,\"user_id\":334088,\"user\":\"JillWellington\",\"userImageURL\":\"https://cdn.pixabay.com/user/2018/06/27/01-23-02-27_250x250.jpg\"},{\"id\":3292932,\"pageURL\":\"https://pixabay.com/photos/sunflower-vase-vintage-retro-wall-3292932/\",\"type\":\"photo\",\"tags\":\"sunflower, vase, vintage\",\"previewURL\":\"https://cdn.pixabay.com/photo/2018/04/05/14/09/sunflower-3292932_150.jpg\",\"previewWidth\":150,\"previewHeight\":93,\"webformatURL\":\"https://pixabay.com/get/g99766a6f6853bc1ba603dad44224bd7f2935fa6c35b3ab9d8b2b111885cb27623c38674185831759515752a3a76dd5aeab9fe36d822247b5ab3b0cfebb1a3b53_640.jpg\",\"webformatWidth\":640,\"webformatHeight\":400,\"largeImageURL\":\"https://pixabay.com/get/g569f559a3e955721444346e24acc4a0e6d76a3d9685bf1c469eeef1d3146796a582553da088d6750b25ef1276d57d6c448d379897614ca5f1885bde89b6109d6_1280.jpg\",\"imageWidth\":3200,\"imageHeight\":2000,\"imageSize\":2563708,\"views\":590078,\"downloads\":430050,\"favorites\":1335,\"likes\":1122,\"comments\":149,\"user_id\":2216431,\"user\":\"Yuri_B\",\"userImageURL\":\"https://cdn.pixabay.com/user/2020/01/13/10-51-47-251_250x250.jpg\"},{\"id\":690320,\"pageURL\":\"https://pixabay.com/photos/tulips-yellow-tulips-flowers-690320/\",\"type\":\"photo\",\"tags\":\"tulips, yellow tulips, flowers\",\"previewURL\":\"https://cdn.pixabay.com/photo/2015/03/26/09/47/tulips-690320_150.jpg\",\"previewWidth\":150,\"previewHeight\":99,\"webformatURL\":\"https://pixabay.com/get/g539cd7f6acdc38e595cec63f6a101660711a032093e891cc7f10b5013a48b564d15c12c3a08be3a5f32b78d1c7c2db53_640.jpg\",\"webformatWidth\":640,\"webformatHeight\":424,\"largeImageURL\":\"https://pixabay.com/get/g38d3a11277c711e31777c5ab791c37bf531cd24e0bec3eca3759467bf08440116ec79c6c0c884f77963df6e2bdba4dd620afa1924af2aa6cad539e4ec82e5ffe_1280.jpg\",\"imageWidth\":2256,\"imageHeight\":1496,\"imageSize\":476709,\"views\":161710,\"downloads\":90786,\"favorites\":619,\"likes\":626,\"comments\":65,\"user_id\":242387,\"user\":\"Free-Photos\",\"userImageURL\":\"https://cdn.pixabay.com/user/2014/05/07/00-10-34-2_250x250.jpg\"},{\"id\":1127174,\"pageURL\":\"https://pixabay.com/photos/sunflower-flower-plant-petals-1127174/\",\"type\":\"photo\",\"tags\":\"sunflower, flower, plant\",\"previewURL\":\"https://cdn.pixabay.com/photo/2016/01/08/05/24/sunflower-1127174_150.jpg\",\"previewWidth\":150,\"previewHeight\":99,\"webformatURL\":\"https://pixabay.com/get/g38dcefedfc9c13fce3b65dc1f7facf04cd20bd9061a6864136b3209b780f0ccb4147b85367c457c3c78cf7c0f36754d6afe168d21f52c283269de61f703d991d_640.jpg\",\"webformatWidth\":640,\"webformatHeight\":426,\"largeImageURL\":\"https://pixabay.com/get/g30407420581b486d98c7cfb8219f5992ffe83275c13b23dc4666e258b123dfde6ab1a637f9b35fe354867d86301965b451edd3360e5f4c5a78817b59267bbfab_1280.jpg\",\"imageWidth\":4752,\"imageHeight\":3168,\"imageSize\":3922163,\"views\":239461,\"downloads\":144608,\"favorites\":735,\"likes\":737,\"comments\":81,\"user_id\":1445608,\"user\":\"mploscar\",\"userImageURL\":\"https://cdn.pixabay.com/user/2016/01/05/14-08-20-943_250x250.jpg\"},{\"id\":1512813,\"pageURL\":\"https://pixabay.com/photos/lilies-yellow-flowers-petals-1512813/\",\"type\":\"photo\",\"tags\":\"lilies, yellow, flowers\",\"previewURL\":\"https://cdn.pixabay.com/photo/2016/07/12/18/54/lilies-1512813_150.jpg\",\"previewWidth\":150,\"previewHeight\":75,\"webformatURL\":\"https://pixabay.com/get/gcb8ff7969ac4114f9de9a4a31a1583f5ef3d1b49b004aa19ee7951e68539e852ed7249f81e753d0b2c309d44ded72325796c5e850363842c0f7db265e5e4dcdb_640.jpg\",\"webformatWidth\":640,\"webformatHeight\":323,\"largeImageURL\":\"https://pixabay.com/get/g34085a950e4b8cc166c6eba2f048c630b320bf141c2fcf22e205a69b0d553bee1fac831c71922b2b1eac302f762e15c09d2e64985301cb57de23707b2958f6fd_1280.jpg\",\"imageWidth\":3861,\"imageHeight\":1952,\"imageSize\":1037708,\"views\":137191,\"downloads\":73653,\"favorites\":490,\"likes\":484,\"comments\":41,\"user_id\":2364555,\"user\":\"pixel2013\",\"userImageURL\":\"https://cdn.pixabay.com/user/2020/07/25/21-10-11-80_250x250.jpg\"},{\"id\":1627193,\"pageURL\":\"https://pixabay.com/photos/sunflower-yellow-flower-pollen-1627193/\",\"type\":\"photo\",\"tags\":\"sunflower, yellow, flower\",\"previewURL\":\"https://cdn.pixabay.com/photo/2016/08/28/23/24/sunflower-1627193_150.jpg\",\"previewWidth\":150,\"previewHeight\":99,\"webformatURL\":\"https://pixabay.com/get/g277c8a34084745c5d5d4e006dc9caef3812079d67196dad3ca9748688de97149955e18ea3f541899371ea2004c2e1b2d00f2640b236fa166e7828a2e9ab372f8_640.jpg\",\"webformatWidth\":640,\"webformatHeight\":426,\"largeImageURL\":\"https://pixabay.com/get/g11084bd344d573dec3c5a3edbf0993f18f418540c177d6912a35833816363c2efbf8c40901c8a85d2aac22c2f195640c7f105b0a87e75fdf5f4a7a0adac59f53_1280.jpg\",\"imageWidth\":6000,\"imageHeight\":4000,\"imageSize\":5414839,\"views\":187549,\"downloads\":75186,\"favorites\":532,\"likes\":491,\"comments\":91,\"user_id\":1834854,\"user\":\"ulleo\",\"userImageURL\":\"https://cdn.pixabay.com/user/2019/05/16/18-48-21-135_250x250.jpg\"},{\"id\":715540,\"pageURL\":\"https://pixabay.com/photos/yellow-flower-blossom-bloom-petals-715540/\",\"type\":\"photo\",\"tags\":\"yellow, flower, blossom\",\"previewURL\":\"https://cdn.pixabay.com/photo/2015/04/10/00/41/yellow-715540_150.jpg\",\"previewWidth\":150,\"previewHeight\":84,\"webformatURL\":\"https://pixabay.com/get/g67d100112d318b8ed4bb6c5d4afa2a4b45f0b3099b97fcae40fcd92d5691de9f3b29af9de3678b2c2b95a932e94b7632_640.jpg\",\"webformatWidth\":640,\"webformatHeight\":360,\"largeImageURL\":\"https://pixabay.com/get/g239a58de62d5631e1026923c58d386cf9c3ff2b27a47fa0f42843d27be22da5fc995e86829a18f94fa13451a12c69c6aece644466945184ac6da7ae04d5fca5c_1280.jpg\",\"imageWidth\":3020,\"imageHeight\":1703,\"imageSize\":974940,\"views\":127525,\"downloads\":70415,\"favorites\":379,\"likes\":357,\"comments\":46,\"user_id\":916237,\"user\":\"Wow_Pho\",\"userImageURL\":\"https://cdn.pixabay.com/user/2015/04/07/14-10-15-590_250x250.jpg\"},{\"id\":887443,\"pageURL\":\"https://pixabay.com/photos/flower-life-crack-desert-drought-887443/\",\"type\":\"photo\",\"tags\":\"flower, life, crack\",\"previewURL\":\"https://cdn.pixabay.com/photo/2015/08/13/20/06/flower-887443_150.jpg\",\"previewWidth\":150,\"previewHeight\":116,\"webformatURL\":\"https://pixabay.com/get/g77e148f5360cbe258d33e29b9f3fbf1cfeece70b27e5aafce99aa79d5e7f5a635dd986238f3fa2bb2179f76116409e87_640.jpg\",\"webformatWidth\":640,\"webformatHeight\":497,\"largeImageURL\":\"https://pixabay.com/get/g14bd22d45cec7641fc6ec606546d0eef4794e15048821f52cf1da49745062898fe162b87ffa4f08c23aadfd85a154a70c5c14dea9bc6fd7352f1d36dda5eb270_1280.jpg\",\"imageWidth\":3867,\"imageHeight\":3005,\"imageSize\":2611531,\"views\":195712,\"downloads\":114911,\"favorites\":615,\"likes\":833,\"comments\":126,\"user_id\":1298145,\"user\":\"klimkin\",\"userImageURL\":\"https://cdn.pixabay.com/user/2017/07/18/13-46-18-393_250x250.jpg\"},{\"id\":1972411,\"pageURL\":\"https://pixabay.com/photos/drip-blossom-bloom-yellow-1972411/\",\"type\":\"photo\",\"tags\":\"drip, blossom, bloom\",\"previewURL\":\"https://cdn.pixabay.com/photo/2017/01/11/17/27/drip-1972411_150.jpg\",\"previewWidth\":150,\"previewHeight\":87,\"webformatURL\":\"https://pixabay.com/get/g37a2024a501f98c2ff0e3ce6f7d63888e979b09920f923fbf15964be0667e9f16ee70cfe34219759459a0c06481c763d4fd06352bbdb612685cf5561d38c3e2b_640.jpg\",\"webformatWidth\":640,\"webformatHeight\":372,\"largeImageURL\":\"https://pixabay.com/get/g500d6ed322336d527e5140a2e16aee2994ad660563621b3a9d883807830e56d49e2fe5bbf9b8984252937349b0aef40668643bbe95fbc9d52660fde481d01692_1280.jpg\",\"imageWidth\":4288,\"imageHeight\":2499,\"imageSize\":1510459,\"views\":119644,\"downloads\":99170,\"favorites\":347,\"likes\":354,\"comments\":52,\"user_id\":1777190,\"user\":\"susannp4\",\"userImageURL\":\"https://cdn.pixabay.com/user/2015/12/16/17-56-55-832_250x250.jpg\"},{\"id\":2145539,\"pageURL\":\"https://pixabay.com/photos/crocus-flower-wet-spring-2145539/\",\"type\":\"photo\",\"tags\":\"crocus, flower, wet\",\"previewURL\":\"https://cdn.pixabay.com/photo/2017/03/15/09/00/crocus-2145539_150.jpg\",\"previewWidth\":150,\"previewHeight\":91,\"webformatURL\":\"https://pixabay.com/get/g3576c982c67917132c4743f1bc0568acd9f42ba1de61998d898269ef4424bca27367e28d4477c56e06556caf62c67748b2ab33ab6dbc4fac32a9202184a888ef_640.jpg\",\"webformatWidth\":640,\"webformatHeight\":390,\"largeImageURL\":\"https://pixabay.com/get/g3cb07a258d31a9fe44c17fb3a9c79f235835bec7f763d9033b8af8037b806b6d3965835cca53b97301870018ede933365eab7d2884a5b0998ea1b2e6d68f22a1_1280.jpg\",\"imageWidth\":4000,\"imageHeight\":2443,\"imageSize\":823922,\"views\":95822,\"downloads\":59739,\"favorites\":496,\"likes\":565,\"comments\":58,\"user_id\":2364555,\"user\":\"pixel2013\",\"userImageURL\":\"https://cdn.pixabay.com/user/2020/07/25/21-10-11-80_250x250.jpg\"},{\"id\":1536088,\"pageURL\":\"https://pixabay.com/photos/sunflower-flower-plant-petals-1536088/\",\"type\":\"photo\",\"tags\":\"sunflower, flower, plant\",\"previewURL\":\"https://cdn.pixabay.com/photo/2016/07/23/00/12/sunflower-1536088_150.jpg\",\"previewWidth\":150,\"previewHeight\":98,\"webformatURL\":\"https://pixabay.com/get/gdc9eb5da83ee958c84b739cc5329a6b932a87a5ba2d6a229d92b160ad2f5259dffd442c76d4238467bcde130028913b411f139b5d2e2cb7a953b0ce9537fd538_640.jpg\",\"webformatWidth\":640,\"webformatHeight\":419,\"largeImageURL\":\"https://pixabay.com/get/gf56bc4244c4515ce354519bf53c930d175fc96b9acf1f56cbeba81f721f4214a5908a5541f8c09b1185a8e5bd84466ddc0fa967f9d2bbce762caa28c0927a372_1280.jpg\",\"imageWidth\":4896,\"imageHeight\":3208,\"imageSize\":5103399,\"views\":338979,\"downloads\":81710,\"favorites\":381,\"likes\":440,\"comments\":77,\"user_id\":1195798,\"user\":\"Couleur\",\"userImageURL\":\"https://cdn.pixabay.com/user/2021/03/09/19-11-20-168_250x250.jpg\"},{\"id\":1643794,\"pageURL\":\"https://pixabay.com/photos/sunflower-bee-macro-pollen-1643794/\",\"type\":\"photo\",\"tags\":\"sunflower, bee, macro\",\"previewURL\":\"https://cdn.pixabay.com/photo/2016/09/04/12/05/sunflower-1643794_150.jpg\",\"previewWidth\":150,\"previewHeight\":113,\"webformatURL\":\"https://pixabay.com/get/g4ac66246717bc8818f0931fc22df9b4de9ca65fee43fb0ddf79b803e44c614e5527cd33186e117384a3f7f28d5af527c13997637f46745f7e0dde8670987fb36_640.jpg\",\"webformatWidth\":640,\"webformatHeight\":484,\"largeImageURL\":\"https://pixabay.com/get/g85f92eb9abcc4acf969b344fa753b17ba835f0b18a656e2000a6be86c66161c128bf03469487ff6bdb7b6cadb588e94e38d3fb4313be59144a86cc9e2db64a36_1280.jpg\",\"imageWidth\":5285,\"imageHeight\":4000,\"imageSize\":5457910,\"views\":102126,\"downloads\":72948,\"favorites\":435,\"likes\":374,\"comments\":35,\"user_id\":686414,\"user\":\"Alexas_Fotos\",\"userImageURL\":\"https://cdn.pixabay.com/user/2021/03/05/00-55-11-239_250x250.jpg\"},{\"id\":3050076,\"pageURL\":\"https://pixabay.com/photos/portrait-girl-fog-flowers-beauty-3050076/\",\"type\":\"photo\",\"tags\":\"portrait, girl, fog\",\"previewURL\":\"https://cdn.pixabay.com/photo/2017/12/30/13/25/portrait-3050076_150.jpg\",\"previewWidth\":150,\"previewHeight\":99,\"webformatURL\":\"https://pixabay.com/get/g3a8ccc9d516e7af69840f3d11eed5d5668978d20323fd26a337d33947a52c6684419fcb9e2683a933d2139be72e399a7cfa9b713802ab3e37a7995e3b6a3b929_640.jpg\",\"webformatWidth\":640,\"webformatHeight\":426,\"largeImageURL\":\"https://pixabay.com/get/g0357e756ee999063cf7c3d60a3ec10f2c459c6a7a9aa803f895fbe8d7c53da5a01f302299c7c8588a51845b01b030997b7d924bbfe3cc7d269906acfc25318ba_1280.jpg\",\"imageWidth\":5472,\"imageHeight\":3648,\"imageSize\":2914111,\"views\":186807,\"downloads\":133607,\"favorites\":403,\"likes\":391,\"comments\":41,\"user_id\":6663646,\"user\":\"ThuyHaBich\",\"userImageURL\":\"https://cdn.pixabay.com/user/2017/11/17/08-35-57-188_250x250.jpg\"},{\"id\":3720383,\"pageURL\":\"https://pixabay.com/photos/flower-g%C3%A9rbel-yellow-flower-flower-3720383/\",\"type\":\"photo\",\"tags\":\"flower g\\\\u00e9rbel, yellow flower, flower\",\"previewURL\":\"https://cdn.pixabay.com/photo/2018/10/03/03/42/flower-gerbel-3720383_150.jpg\",\"previewWidth\":150,\"previewHeight\":99,\"webformatURL\":\"https://pixabay.com/get/g5e336a747bcc2f9628b06534eedfdc032461896ecb3ad6d2ab63ae0a55d7ee5fbef97e822f643015266a96a0cb08dc8f70c9da846ee6e5c308d41709d2f28338_640.jpg\",\"webformatWidth\":640,\"webformatHeight\":426,\"largeImageURL\":\"https://pixabay.com/get/gf3dbfb4be07f4f5e1e39bd76d8b67806a077fbcef9e630d85a6f74f2ed74b95265bf5045d588cb49cdb4bc0dd2430bf9596c0cdef5f66d50e0cd4c83969a53ca_1280.jpg\",\"imageWidth\":6000,\"imageHeight\":4000,\"imageSize\":2117262,\"views\":73877,\"downloads\":59902,\"favorites\":185,\"likes\":212,\"comments\":42,\"user_id\":6246704,\"user\":\"fernandozhiminaicela\",\"userImageURL\":\"https://cdn.pixabay.com/user/2019/02/27/14-16-13-192_250x250.jpg\"},{\"id\":113735,\"pageURL\":\"https://pixabay.com/photos/flower-rose-garden-yellow-rose-113735/\",\"type\":\"photo\",\"tags\":\"flower, rose, garden\",\"previewURL\":\"https://cdn.pixabay.com/photo/2013/05/26/12/14/flower-113735_150.jpg\",\"previewWidth\":150,\"previewHeight\":83,\"webformatURL\":\"https://pixabay.com/get/gce6553cdf3c88ac9de558ac146ac2699ad340502fd1a3d3bcdd52551774f5ca16669b3c9cac8e84c0a4374deb3afb5d4_640.jpg\",\"webformatWidth\":640,\"webformatHeight\":355,\"largeImageURL\":\"https://pixabay.com/get/ga7093568a0213a3e0ec5415a762bbf0e17e24bf0a3ab75428fc49d6746860262882b2e2fc96ae8b9268abd6347681e83663883bbefd5d9406dc34c6aeef0c980_1280.jpg\",\"imageWidth\":2410,\"imageHeight\":1337,\"imageSize\":299425,\"views\":125140,\"downloads\":31885,\"favorites\":252,\"likes\":270,\"comments\":36,\"user_id\":817,\"user\":\"blizniak\",\"userImageURL\":\"https://cdn.pixabay.com/user/2013/06/28/17-07-05-714_250x250.jpg\"},{\"id\":1144084,\"pageURL\":\"https://pixabay.com/photos/poppy-fields-landscape-nature-1144084/\",\"type\":\"photo\",\"tags\":\"poppy, fields, landscape\",\"previewURL\":\"https://cdn.pixabay.com/photo/2016/01/16/22/03/poppy-1144084_150.jpg\",\"previewWidth\":150,\"previewHeight\":99,\"webformatURL\":\"https://pixabay.com/get/gd41531a35a3d4411757e799127cc71aefffc1379bdcae1204bb12735832c95dfdba4dc924872cb323ca983063dfc2bd3d000ee0deeb4b1b5b94c5d6a32fdfed4_640.jpg\",\"webformatWidth\":640,\"webformatHeight\":426,\"largeImageURL\":\"https://pixabay.com/get/ga42fc22b64ea0871c575ecdd332a6902ce02d5a8f62f13f468faf7560f1aceeb149fb00e572473fe3d350b7f85aa21d5cd2e79ee775c7ca2302bd01a7e4b888e_1280.jpg\",\"imageWidth\":5760,\"imageHeight\":3840,\"imageSize\":3692207,\"views\":47724,\"downloads\":24879,\"favorites\":295,\"likes\":260,\"comments\":25,\"user_id\":1798295,\"user\":\"WenPhotos\",\"userImageURL\":\"https://cdn.pixabay.com/user/2016/01/12/16-44-55-409_250x250.jpg\"},{\"id\":190483,\"pageURL\":\"https://pixabay.com/photos/bike-bicycle-wheels-bicycle-wheels-190483/\",\"type\":\"photo\",\"tags\":\"bike, bicycle, wheels\",\"previewURL\":\"https://cdn.pixabay.com/photo/2013/10/03/23/19/bike-190483_150.jpg\",\"previewWidth\":150,\"previewHeight\":99,\"webformatURL\":\"https://pixabay.com/get/gd04de2ae29dee6ccde079da2c108fb1ab9f87d335327030d6a392bc97c4e1891ff18190bd67bec84d87b6ef2bb30f267_640.jpg\",\"webformatWidth\":640,\"webformatHeight\":426,\"largeImageURL\":\"https://pixabay.com/get/g26e85638f0741f4a9d4f180608e9f072b0d488ffbac4659fb23b037452ad12ed817bf04a121639138c4b33ed68b30ea03e8fa4a89d84be13a8513b800d8dbfd0_1280.jpg\",\"imageWidth\":2160,\"imageHeight\":1440,\"imageSize\":2093738,\"views\":119154,\"downloads\":33669,\"favorites\":421,\"likes\":422,\"comments\":51,\"user_id\":55851,\"user\":\"danfador\",\"userImageURL\":\"\"},{\"id\":3705716,\"pageURL\":\"https://pixabay.com/photos/flowers-plant-blossom-bloom-nature-3705716/\",\"type\":\"photo\",\"tags\":\"flowers, plant, blossom\",\"previewURL\":\"https://cdn.pixabay.com/photo/2018/09/26/21/47/flowers-3705716_150.jpg\",\"previewWidth\":150,\"previewHeight\":99,\"webformatURL\":\"https://pixabay.com/get/gfec7892bcab96fe1f4866ef272c0716850cb7817f258ce127fc2c40ffba7fd45fdf00840139f7ace2a4cdf67a866991b152ef426f5686f7c0da1f98124b34868_640.jpg\",\"webformatWidth\":640,\"webformatHeight\":426,\"largeImageURL\":\"https://pixabay.com/get/g4e137b8bd0ac407260c77a8c4b13a5aeef099fe56bbfe2aa925831fe9b4f4fe5727792022f7adf64cedfc94627e09811dbf08c7c302ead78400f6d0b9e66b882_1280.jpg\",\"imageWidth\":3456,\"imageHeight\":2304,\"imageSize\":1914197,\"views\":125923,\"downloads\":113724,\"favorites\":249,\"likes\":231,\"comments\":113,\"user_id\":8872450,\"user\":\"klickblick\",\"userImageURL\":\"https://cdn.pixabay.com/user/2019/09/13/05-18-37-859_250x250.jpg\"}]}'"
            ]
          },
          "metadata": {
            "tags": []
          },
          "execution_count": 21
        }
      ]
    },
    {
      "cell_type": "code",
      "metadata": {
        "id": "2qm9tNkvFZ0E"
      },
      "source": [
        "content = json.loads(res.content)"
      ],
      "execution_count": null,
      "outputs": []
    },
    {
      "cell_type": "code",
      "metadata": {
        "colab": {
          "base_uri": "https://localhost:8080/"
        },
        "id": "llUSB-ObFhR8",
        "outputId": "749d269a-01fb-420c-dfc0-f43d29b14647"
      },
      "source": [
        "type(content)"
      ],
      "execution_count": null,
      "outputs": [
        {
          "output_type": "execute_result",
          "data": {
            "text/plain": [
              "dict"
            ]
          },
          "metadata": {
            "tags": []
          },
          "execution_count": 23
        }
      ]
    },
    {
      "cell_type": "code",
      "metadata": {
        "colab": {
          "base_uri": "https://localhost:8080/"
        },
        "id": "lk8CDdJbFinz",
        "outputId": "466a74f3-805b-48c2-e183-e1bc17c91811"
      },
      "source": [
        "content"
      ],
      "execution_count": null,
      "outputs": [
        {
          "output_type": "execute_result",
          "data": {
            "text/plain": [
              "{'hits': [{'comments': 289,\n",
              "   'downloads': 543525,\n",
              "   'favorites': 1125,\n",
              "   'id': 3063284,\n",
              "   'imageHeight': 4000,\n",
              "   'imageSize': 3574625,\n",
              "   'imageWidth': 6000,\n",
              "   'largeImageURL': 'https://pixabay.com/get/gd155d5191f12de35baa81515d649b6ae6c7374f9b5dd3b9200f0ed14046031f696b7f9321ce6354f5c6519f24811557c6a127dc9172946c6a1695e537ee60714_1280.jpg',\n",
              "   'likes': 1300,\n",
              "   'pageURL': 'https://pixabay.com/photos/rose-flower-petal-floral-noble-3063284/',\n",
              "   'previewHeight': 99,\n",
              "   'previewURL': 'https://cdn.pixabay.com/photo/2018/01/05/16/24/rose-3063284_150.jpg',\n",
              "   'previewWidth': 150,\n",
              "   'tags': 'rose, flower, petal',\n",
              "   'type': 'photo',\n",
              "   'user': 'anncapictures',\n",
              "   'userImageURL': 'https://cdn.pixabay.com/user/2015/11/27/06-58-54-609_250x250.jpg',\n",
              "   'user_id': 1564471,\n",
              "   'views': 853702,\n",
              "   'webformatHeight': 426,\n",
              "   'webformatURL': 'https://pixabay.com/get/g7415c26ab232e14d1135707f2270c465c00c1be832423e4aa337d2ea4e69e9142a507affa74c9144abb066083c25099aeb3bda7c5e168e4daae06421bfa0d8a6_640.jpg',\n",
              "   'webformatWidth': 640},\n",
              "  {'comments': 143,\n",
              "   'downloads': 371495,\n",
              "   'favorites': 604,\n",
              "   'id': 3113318,\n",
              "   'imageHeight': 1824,\n",
              "   'imageSize': 1026006,\n",
              "   'imageWidth': 2736,\n",
              "   'largeImageURL': 'https://pixabay.com/get/gcfbc4639afb24b19bfb4cab3d829294f1dc9d4b112a014f1c0368c6f1cf30360c3fe94bdba0c64c0fca0df3d3bd47b3bca6a1a7bab66170f338dde865628a6c1_1280.jpg',\n",
              "   'likes': 898,\n",
              "   'pageURL': 'https://pixabay.com/photos/sunflower-nature-flora-flower-3113318/',\n",
              "   'previewHeight': 99,\n",
              "   'previewURL': 'https://cdn.pixabay.com/photo/2018/01/28/11/24/sunflower-3113318_150.jpg',\n",
              "   'previewWidth': 150,\n",
              "   'tags': 'sunflower, nature, flora',\n",
              "   'type': 'photo',\n",
              "   'user': 'bichnguyenvo',\n",
              "   'userImageURL': 'https://cdn.pixabay.com/user/2017/12/16/10-28-39-199_250x250.jpg',\n",
              "   'user_id': 7410713,\n",
              "   'views': 509494,\n",
              "   'webformatHeight': 426,\n",
              "   'webformatURL': 'https://pixabay.com/get/gc8d3a75514c4afa7dad20ca4ba6f183fa29a82a9cceaba6ca4a82abb9c5772f7b6538156ab824d3987c47d048eea8a30a742aaff275abea208b93903188184f6_640.jpg',\n",
              "   'webformatWidth': 640},\n",
              "  {'comments': 142,\n",
              "   'downloads': 149594,\n",
              "   'favorites': 1430,\n",
              "   'id': 2295434,\n",
              "   'imageHeight': 3575,\n",
              "   'imageSize': 2938651,\n",
              "   'imageWidth': 5363,\n",
              "   'largeImageURL': 'https://pixabay.com/get/ga7a7a9126a7e3112d91ff04372198e174223290e7f6e2e201c9179820c2963af2702beee49d88fad1c4b7ee875d6a6dfa78e70c80d00df87cb05a25a7cb6bdad_1280.jpg',\n",
              "   'likes': 1415,\n",
              "   'pageURL': 'https://pixabay.com/photos/spring-bird-bird-tit-spring-blue-2295434/',\n",
              "   'previewHeight': 99,\n",
              "   'previewURL': 'https://cdn.pixabay.com/photo/2017/05/08/13/15/spring-bird-2295434_150.jpg',\n",
              "   'previewWidth': 150,\n",
              "   'tags': 'spring bird, bird, tit',\n",
              "   'type': 'photo',\n",
              "   'user': 'JillWellington',\n",
              "   'userImageURL': 'https://cdn.pixabay.com/user/2018/06/27/01-23-02-27_250x250.jpg',\n",
              "   'user_id': 334088,\n",
              "   'views': 299024,\n",
              "   'webformatHeight': 426,\n",
              "   'webformatURL': 'https://pixabay.com/get/g49d898198ebc3ffb066262db32658470370f5a6703f752805df60bcc534534be90428246236eccdcef843b3c8082428f017212519c75f9b21378e617be8809d6_640.jpg',\n",
              "   'webformatWidth': 640},\n",
              "  {'comments': 149,\n",
              "   'downloads': 430050,\n",
              "   'favorites': 1335,\n",
              "   'id': 3292932,\n",
              "   'imageHeight': 2000,\n",
              "   'imageSize': 2563708,\n",
              "   'imageWidth': 3200,\n",
              "   'largeImageURL': 'https://pixabay.com/get/g569f559a3e955721444346e24acc4a0e6d76a3d9685bf1c469eeef1d3146796a582553da088d6750b25ef1276d57d6c448d379897614ca5f1885bde89b6109d6_1280.jpg',\n",
              "   'likes': 1122,\n",
              "   'pageURL': 'https://pixabay.com/photos/sunflower-vase-vintage-retro-wall-3292932/',\n",
              "   'previewHeight': 93,\n",
              "   'previewURL': 'https://cdn.pixabay.com/photo/2018/04/05/14/09/sunflower-3292932_150.jpg',\n",
              "   'previewWidth': 150,\n",
              "   'tags': 'sunflower, vase, vintage',\n",
              "   'type': 'photo',\n",
              "   'user': 'Yuri_B',\n",
              "   'userImageURL': 'https://cdn.pixabay.com/user/2020/01/13/10-51-47-251_250x250.jpg',\n",
              "   'user_id': 2216431,\n",
              "   'views': 590078,\n",
              "   'webformatHeight': 400,\n",
              "   'webformatURL': 'https://pixabay.com/get/g99766a6f6853bc1ba603dad44224bd7f2935fa6c35b3ab9d8b2b111885cb27623c38674185831759515752a3a76dd5aeab9fe36d822247b5ab3b0cfebb1a3b53_640.jpg',\n",
              "   'webformatWidth': 640},\n",
              "  {'comments': 65,\n",
              "   'downloads': 90786,\n",
              "   'favorites': 619,\n",
              "   'id': 690320,\n",
              "   'imageHeight': 1496,\n",
              "   'imageSize': 476709,\n",
              "   'imageWidth': 2256,\n",
              "   'largeImageURL': 'https://pixabay.com/get/g38d3a11277c711e31777c5ab791c37bf531cd24e0bec3eca3759467bf08440116ec79c6c0c884f77963df6e2bdba4dd620afa1924af2aa6cad539e4ec82e5ffe_1280.jpg',\n",
              "   'likes': 626,\n",
              "   'pageURL': 'https://pixabay.com/photos/tulips-yellow-tulips-flowers-690320/',\n",
              "   'previewHeight': 99,\n",
              "   'previewURL': 'https://cdn.pixabay.com/photo/2015/03/26/09/47/tulips-690320_150.jpg',\n",
              "   'previewWidth': 150,\n",
              "   'tags': 'tulips, yellow tulips, flowers',\n",
              "   'type': 'photo',\n",
              "   'user': 'Free-Photos',\n",
              "   'userImageURL': 'https://cdn.pixabay.com/user/2014/05/07/00-10-34-2_250x250.jpg',\n",
              "   'user_id': 242387,\n",
              "   'views': 161710,\n",
              "   'webformatHeight': 424,\n",
              "   'webformatURL': 'https://pixabay.com/get/g539cd7f6acdc38e595cec63f6a101660711a032093e891cc7f10b5013a48b564d15c12c3a08be3a5f32b78d1c7c2db53_640.jpg',\n",
              "   'webformatWidth': 640},\n",
              "  {'comments': 81,\n",
              "   'downloads': 144608,\n",
              "   'favorites': 735,\n",
              "   'id': 1127174,\n",
              "   'imageHeight': 3168,\n",
              "   'imageSize': 3922163,\n",
              "   'imageWidth': 4752,\n",
              "   'largeImageURL': 'https://pixabay.com/get/g30407420581b486d98c7cfb8219f5992ffe83275c13b23dc4666e258b123dfde6ab1a637f9b35fe354867d86301965b451edd3360e5f4c5a78817b59267bbfab_1280.jpg',\n",
              "   'likes': 737,\n",
              "   'pageURL': 'https://pixabay.com/photos/sunflower-flower-plant-petals-1127174/',\n",
              "   'previewHeight': 99,\n",
              "   'previewURL': 'https://cdn.pixabay.com/photo/2016/01/08/05/24/sunflower-1127174_150.jpg',\n",
              "   'previewWidth': 150,\n",
              "   'tags': 'sunflower, flower, plant',\n",
              "   'type': 'photo',\n",
              "   'user': 'mploscar',\n",
              "   'userImageURL': 'https://cdn.pixabay.com/user/2016/01/05/14-08-20-943_250x250.jpg',\n",
              "   'user_id': 1445608,\n",
              "   'views': 239461,\n",
              "   'webformatHeight': 426,\n",
              "   'webformatURL': 'https://pixabay.com/get/g38dcefedfc9c13fce3b65dc1f7facf04cd20bd9061a6864136b3209b780f0ccb4147b85367c457c3c78cf7c0f36754d6afe168d21f52c283269de61f703d991d_640.jpg',\n",
              "   'webformatWidth': 640},\n",
              "  {'comments': 41,\n",
              "   'downloads': 73653,\n",
              "   'favorites': 490,\n",
              "   'id': 1512813,\n",
              "   'imageHeight': 1952,\n",
              "   'imageSize': 1037708,\n",
              "   'imageWidth': 3861,\n",
              "   'largeImageURL': 'https://pixabay.com/get/g34085a950e4b8cc166c6eba2f048c630b320bf141c2fcf22e205a69b0d553bee1fac831c71922b2b1eac302f762e15c09d2e64985301cb57de23707b2958f6fd_1280.jpg',\n",
              "   'likes': 484,\n",
              "   'pageURL': 'https://pixabay.com/photos/lilies-yellow-flowers-petals-1512813/',\n",
              "   'previewHeight': 75,\n",
              "   'previewURL': 'https://cdn.pixabay.com/photo/2016/07/12/18/54/lilies-1512813_150.jpg',\n",
              "   'previewWidth': 150,\n",
              "   'tags': 'lilies, yellow, flowers',\n",
              "   'type': 'photo',\n",
              "   'user': 'pixel2013',\n",
              "   'userImageURL': 'https://cdn.pixabay.com/user/2020/07/25/21-10-11-80_250x250.jpg',\n",
              "   'user_id': 2364555,\n",
              "   'views': 137191,\n",
              "   'webformatHeight': 323,\n",
              "   'webformatURL': 'https://pixabay.com/get/gcb8ff7969ac4114f9de9a4a31a1583f5ef3d1b49b004aa19ee7951e68539e852ed7249f81e753d0b2c309d44ded72325796c5e850363842c0f7db265e5e4dcdb_640.jpg',\n",
              "   'webformatWidth': 640},\n",
              "  {'comments': 91,\n",
              "   'downloads': 75186,\n",
              "   'favorites': 532,\n",
              "   'id': 1627193,\n",
              "   'imageHeight': 4000,\n",
              "   'imageSize': 5414839,\n",
              "   'imageWidth': 6000,\n",
              "   'largeImageURL': 'https://pixabay.com/get/g11084bd344d573dec3c5a3edbf0993f18f418540c177d6912a35833816363c2efbf8c40901c8a85d2aac22c2f195640c7f105b0a87e75fdf5f4a7a0adac59f53_1280.jpg',\n",
              "   'likes': 491,\n",
              "   'pageURL': 'https://pixabay.com/photos/sunflower-yellow-flower-pollen-1627193/',\n",
              "   'previewHeight': 99,\n",
              "   'previewURL': 'https://cdn.pixabay.com/photo/2016/08/28/23/24/sunflower-1627193_150.jpg',\n",
              "   'previewWidth': 150,\n",
              "   'tags': 'sunflower, yellow, flower',\n",
              "   'type': 'photo',\n",
              "   'user': 'ulleo',\n",
              "   'userImageURL': 'https://cdn.pixabay.com/user/2019/05/16/18-48-21-135_250x250.jpg',\n",
              "   'user_id': 1834854,\n",
              "   'views': 187549,\n",
              "   'webformatHeight': 426,\n",
              "   'webformatURL': 'https://pixabay.com/get/g277c8a34084745c5d5d4e006dc9caef3812079d67196dad3ca9748688de97149955e18ea3f541899371ea2004c2e1b2d00f2640b236fa166e7828a2e9ab372f8_640.jpg',\n",
              "   'webformatWidth': 640},\n",
              "  {'comments': 46,\n",
              "   'downloads': 70415,\n",
              "   'favorites': 379,\n",
              "   'id': 715540,\n",
              "   'imageHeight': 1703,\n",
              "   'imageSize': 974940,\n",
              "   'imageWidth': 3020,\n",
              "   'largeImageURL': 'https://pixabay.com/get/g239a58de62d5631e1026923c58d386cf9c3ff2b27a47fa0f42843d27be22da5fc995e86829a18f94fa13451a12c69c6aece644466945184ac6da7ae04d5fca5c_1280.jpg',\n",
              "   'likes': 357,\n",
              "   'pageURL': 'https://pixabay.com/photos/yellow-flower-blossom-bloom-petals-715540/',\n",
              "   'previewHeight': 84,\n",
              "   'previewURL': 'https://cdn.pixabay.com/photo/2015/04/10/00/41/yellow-715540_150.jpg',\n",
              "   'previewWidth': 150,\n",
              "   'tags': 'yellow, flower, blossom',\n",
              "   'type': 'photo',\n",
              "   'user': 'Wow_Pho',\n",
              "   'userImageURL': 'https://cdn.pixabay.com/user/2015/04/07/14-10-15-590_250x250.jpg',\n",
              "   'user_id': 916237,\n",
              "   'views': 127525,\n",
              "   'webformatHeight': 360,\n",
              "   'webformatURL': 'https://pixabay.com/get/g67d100112d318b8ed4bb6c5d4afa2a4b45f0b3099b97fcae40fcd92d5691de9f3b29af9de3678b2c2b95a932e94b7632_640.jpg',\n",
              "   'webformatWidth': 640},\n",
              "  {'comments': 126,\n",
              "   'downloads': 114911,\n",
              "   'favorites': 615,\n",
              "   'id': 887443,\n",
              "   'imageHeight': 3005,\n",
              "   'imageSize': 2611531,\n",
              "   'imageWidth': 3867,\n",
              "   'largeImageURL': 'https://pixabay.com/get/g14bd22d45cec7641fc6ec606546d0eef4794e15048821f52cf1da49745062898fe162b87ffa4f08c23aadfd85a154a70c5c14dea9bc6fd7352f1d36dda5eb270_1280.jpg',\n",
              "   'likes': 833,\n",
              "   'pageURL': 'https://pixabay.com/photos/flower-life-crack-desert-drought-887443/',\n",
              "   'previewHeight': 116,\n",
              "   'previewURL': 'https://cdn.pixabay.com/photo/2015/08/13/20/06/flower-887443_150.jpg',\n",
              "   'previewWidth': 150,\n",
              "   'tags': 'flower, life, crack',\n",
              "   'type': 'photo',\n",
              "   'user': 'klimkin',\n",
              "   'userImageURL': 'https://cdn.pixabay.com/user/2017/07/18/13-46-18-393_250x250.jpg',\n",
              "   'user_id': 1298145,\n",
              "   'views': 195712,\n",
              "   'webformatHeight': 497,\n",
              "   'webformatURL': 'https://pixabay.com/get/g77e148f5360cbe258d33e29b9f3fbf1cfeece70b27e5aafce99aa79d5e7f5a635dd986238f3fa2bb2179f76116409e87_640.jpg',\n",
              "   'webformatWidth': 640},\n",
              "  {'comments': 52,\n",
              "   'downloads': 99170,\n",
              "   'favorites': 347,\n",
              "   'id': 1972411,\n",
              "   'imageHeight': 2499,\n",
              "   'imageSize': 1510459,\n",
              "   'imageWidth': 4288,\n",
              "   'largeImageURL': 'https://pixabay.com/get/g500d6ed322336d527e5140a2e16aee2994ad660563621b3a9d883807830e56d49e2fe5bbf9b8984252937349b0aef40668643bbe95fbc9d52660fde481d01692_1280.jpg',\n",
              "   'likes': 354,\n",
              "   'pageURL': 'https://pixabay.com/photos/drip-blossom-bloom-yellow-1972411/',\n",
              "   'previewHeight': 87,\n",
              "   'previewURL': 'https://cdn.pixabay.com/photo/2017/01/11/17/27/drip-1972411_150.jpg',\n",
              "   'previewWidth': 150,\n",
              "   'tags': 'drip, blossom, bloom',\n",
              "   'type': 'photo',\n",
              "   'user': 'susannp4',\n",
              "   'userImageURL': 'https://cdn.pixabay.com/user/2015/12/16/17-56-55-832_250x250.jpg',\n",
              "   'user_id': 1777190,\n",
              "   'views': 119644,\n",
              "   'webformatHeight': 372,\n",
              "   'webformatURL': 'https://pixabay.com/get/g37a2024a501f98c2ff0e3ce6f7d63888e979b09920f923fbf15964be0667e9f16ee70cfe34219759459a0c06481c763d4fd06352bbdb612685cf5561d38c3e2b_640.jpg',\n",
              "   'webformatWidth': 640},\n",
              "  {'comments': 58,\n",
              "   'downloads': 59739,\n",
              "   'favorites': 496,\n",
              "   'id': 2145539,\n",
              "   'imageHeight': 2443,\n",
              "   'imageSize': 823922,\n",
              "   'imageWidth': 4000,\n",
              "   'largeImageURL': 'https://pixabay.com/get/g3cb07a258d31a9fe44c17fb3a9c79f235835bec7f763d9033b8af8037b806b6d3965835cca53b97301870018ede933365eab7d2884a5b0998ea1b2e6d68f22a1_1280.jpg',\n",
              "   'likes': 565,\n",
              "   'pageURL': 'https://pixabay.com/photos/crocus-flower-wet-spring-2145539/',\n",
              "   'previewHeight': 91,\n",
              "   'previewURL': 'https://cdn.pixabay.com/photo/2017/03/15/09/00/crocus-2145539_150.jpg',\n",
              "   'previewWidth': 150,\n",
              "   'tags': 'crocus, flower, wet',\n",
              "   'type': 'photo',\n",
              "   'user': 'pixel2013',\n",
              "   'userImageURL': 'https://cdn.pixabay.com/user/2020/07/25/21-10-11-80_250x250.jpg',\n",
              "   'user_id': 2364555,\n",
              "   'views': 95822,\n",
              "   'webformatHeight': 390,\n",
              "   'webformatURL': 'https://pixabay.com/get/g3576c982c67917132c4743f1bc0568acd9f42ba1de61998d898269ef4424bca27367e28d4477c56e06556caf62c67748b2ab33ab6dbc4fac32a9202184a888ef_640.jpg',\n",
              "   'webformatWidth': 640},\n",
              "  {'comments': 77,\n",
              "   'downloads': 81710,\n",
              "   'favorites': 381,\n",
              "   'id': 1536088,\n",
              "   'imageHeight': 3208,\n",
              "   'imageSize': 5103399,\n",
              "   'imageWidth': 4896,\n",
              "   'largeImageURL': 'https://pixabay.com/get/gf56bc4244c4515ce354519bf53c930d175fc96b9acf1f56cbeba81f721f4214a5908a5541f8c09b1185a8e5bd84466ddc0fa967f9d2bbce762caa28c0927a372_1280.jpg',\n",
              "   'likes': 440,\n",
              "   'pageURL': 'https://pixabay.com/photos/sunflower-flower-plant-petals-1536088/',\n",
              "   'previewHeight': 98,\n",
              "   'previewURL': 'https://cdn.pixabay.com/photo/2016/07/23/00/12/sunflower-1536088_150.jpg',\n",
              "   'previewWidth': 150,\n",
              "   'tags': 'sunflower, flower, plant',\n",
              "   'type': 'photo',\n",
              "   'user': 'Couleur',\n",
              "   'userImageURL': 'https://cdn.pixabay.com/user/2021/03/09/19-11-20-168_250x250.jpg',\n",
              "   'user_id': 1195798,\n",
              "   'views': 338979,\n",
              "   'webformatHeight': 419,\n",
              "   'webformatURL': 'https://pixabay.com/get/gdc9eb5da83ee958c84b739cc5329a6b932a87a5ba2d6a229d92b160ad2f5259dffd442c76d4238467bcde130028913b411f139b5d2e2cb7a953b0ce9537fd538_640.jpg',\n",
              "   'webformatWidth': 640},\n",
              "  {'comments': 35,\n",
              "   'downloads': 72948,\n",
              "   'favorites': 435,\n",
              "   'id': 1643794,\n",
              "   'imageHeight': 4000,\n",
              "   'imageSize': 5457910,\n",
              "   'imageWidth': 5285,\n",
              "   'largeImageURL': 'https://pixabay.com/get/g85f92eb9abcc4acf969b344fa753b17ba835f0b18a656e2000a6be86c66161c128bf03469487ff6bdb7b6cadb588e94e38d3fb4313be59144a86cc9e2db64a36_1280.jpg',\n",
              "   'likes': 374,\n",
              "   'pageURL': 'https://pixabay.com/photos/sunflower-bee-macro-pollen-1643794/',\n",
              "   'previewHeight': 113,\n",
              "   'previewURL': 'https://cdn.pixabay.com/photo/2016/09/04/12/05/sunflower-1643794_150.jpg',\n",
              "   'previewWidth': 150,\n",
              "   'tags': 'sunflower, bee, macro',\n",
              "   'type': 'photo',\n",
              "   'user': 'Alexas_Fotos',\n",
              "   'userImageURL': 'https://cdn.pixabay.com/user/2021/03/05/00-55-11-239_250x250.jpg',\n",
              "   'user_id': 686414,\n",
              "   'views': 102126,\n",
              "   'webformatHeight': 484,\n",
              "   'webformatURL': 'https://pixabay.com/get/g4ac66246717bc8818f0931fc22df9b4de9ca65fee43fb0ddf79b803e44c614e5527cd33186e117384a3f7f28d5af527c13997637f46745f7e0dde8670987fb36_640.jpg',\n",
              "   'webformatWidth': 640},\n",
              "  {'comments': 41,\n",
              "   'downloads': 133607,\n",
              "   'favorites': 403,\n",
              "   'id': 3050076,\n",
              "   'imageHeight': 3648,\n",
              "   'imageSize': 2914111,\n",
              "   'imageWidth': 5472,\n",
              "   'largeImageURL': 'https://pixabay.com/get/g0357e756ee999063cf7c3d60a3ec10f2c459c6a7a9aa803f895fbe8d7c53da5a01f302299c7c8588a51845b01b030997b7d924bbfe3cc7d269906acfc25318ba_1280.jpg',\n",
              "   'likes': 391,\n",
              "   'pageURL': 'https://pixabay.com/photos/portrait-girl-fog-flowers-beauty-3050076/',\n",
              "   'previewHeight': 99,\n",
              "   'previewURL': 'https://cdn.pixabay.com/photo/2017/12/30/13/25/portrait-3050076_150.jpg',\n",
              "   'previewWidth': 150,\n",
              "   'tags': 'portrait, girl, fog',\n",
              "   'type': 'photo',\n",
              "   'user': 'ThuyHaBich',\n",
              "   'userImageURL': 'https://cdn.pixabay.com/user/2017/11/17/08-35-57-188_250x250.jpg',\n",
              "   'user_id': 6663646,\n",
              "   'views': 186807,\n",
              "   'webformatHeight': 426,\n",
              "   'webformatURL': 'https://pixabay.com/get/g3a8ccc9d516e7af69840f3d11eed5d5668978d20323fd26a337d33947a52c6684419fcb9e2683a933d2139be72e399a7cfa9b713802ab3e37a7995e3b6a3b929_640.jpg',\n",
              "   'webformatWidth': 640},\n",
              "  {'comments': 42,\n",
              "   'downloads': 59902,\n",
              "   'favorites': 185,\n",
              "   'id': 3720383,\n",
              "   'imageHeight': 4000,\n",
              "   'imageSize': 2117262,\n",
              "   'imageWidth': 6000,\n",
              "   'largeImageURL': 'https://pixabay.com/get/gf3dbfb4be07f4f5e1e39bd76d8b67806a077fbcef9e630d85a6f74f2ed74b95265bf5045d588cb49cdb4bc0dd2430bf9596c0cdef5f66d50e0cd4c83969a53ca_1280.jpg',\n",
              "   'likes': 212,\n",
              "   'pageURL': 'https://pixabay.com/photos/flower-g%C3%A9rbel-yellow-flower-flower-3720383/',\n",
              "   'previewHeight': 99,\n",
              "   'previewURL': 'https://cdn.pixabay.com/photo/2018/10/03/03/42/flower-gerbel-3720383_150.jpg',\n",
              "   'previewWidth': 150,\n",
              "   'tags': 'flower gérbel, yellow flower, flower',\n",
              "   'type': 'photo',\n",
              "   'user': 'fernandozhiminaicela',\n",
              "   'userImageURL': 'https://cdn.pixabay.com/user/2019/02/27/14-16-13-192_250x250.jpg',\n",
              "   'user_id': 6246704,\n",
              "   'views': 73877,\n",
              "   'webformatHeight': 426,\n",
              "   'webformatURL': 'https://pixabay.com/get/g5e336a747bcc2f9628b06534eedfdc032461896ecb3ad6d2ab63ae0a55d7ee5fbef97e822f643015266a96a0cb08dc8f70c9da846ee6e5c308d41709d2f28338_640.jpg',\n",
              "   'webformatWidth': 640},\n",
              "  {'comments': 36,\n",
              "   'downloads': 31885,\n",
              "   'favorites': 252,\n",
              "   'id': 113735,\n",
              "   'imageHeight': 1337,\n",
              "   'imageSize': 299425,\n",
              "   'imageWidth': 2410,\n",
              "   'largeImageURL': 'https://pixabay.com/get/ga7093568a0213a3e0ec5415a762bbf0e17e24bf0a3ab75428fc49d6746860262882b2e2fc96ae8b9268abd6347681e83663883bbefd5d9406dc34c6aeef0c980_1280.jpg',\n",
              "   'likes': 270,\n",
              "   'pageURL': 'https://pixabay.com/photos/flower-rose-garden-yellow-rose-113735/',\n",
              "   'previewHeight': 83,\n",
              "   'previewURL': 'https://cdn.pixabay.com/photo/2013/05/26/12/14/flower-113735_150.jpg',\n",
              "   'previewWidth': 150,\n",
              "   'tags': 'flower, rose, garden',\n",
              "   'type': 'photo',\n",
              "   'user': 'blizniak',\n",
              "   'userImageURL': 'https://cdn.pixabay.com/user/2013/06/28/17-07-05-714_250x250.jpg',\n",
              "   'user_id': 817,\n",
              "   'views': 125140,\n",
              "   'webformatHeight': 355,\n",
              "   'webformatURL': 'https://pixabay.com/get/gce6553cdf3c88ac9de558ac146ac2699ad340502fd1a3d3bcdd52551774f5ca16669b3c9cac8e84c0a4374deb3afb5d4_640.jpg',\n",
              "   'webformatWidth': 640},\n",
              "  {'comments': 25,\n",
              "   'downloads': 24879,\n",
              "   'favorites': 295,\n",
              "   'id': 1144084,\n",
              "   'imageHeight': 3840,\n",
              "   'imageSize': 3692207,\n",
              "   'imageWidth': 5760,\n",
              "   'largeImageURL': 'https://pixabay.com/get/ga42fc22b64ea0871c575ecdd332a6902ce02d5a8f62f13f468faf7560f1aceeb149fb00e572473fe3d350b7f85aa21d5cd2e79ee775c7ca2302bd01a7e4b888e_1280.jpg',\n",
              "   'likes': 260,\n",
              "   'pageURL': 'https://pixabay.com/photos/poppy-fields-landscape-nature-1144084/',\n",
              "   'previewHeight': 99,\n",
              "   'previewURL': 'https://cdn.pixabay.com/photo/2016/01/16/22/03/poppy-1144084_150.jpg',\n",
              "   'previewWidth': 150,\n",
              "   'tags': 'poppy, fields, landscape',\n",
              "   'type': 'photo',\n",
              "   'user': 'WenPhotos',\n",
              "   'userImageURL': 'https://cdn.pixabay.com/user/2016/01/12/16-44-55-409_250x250.jpg',\n",
              "   'user_id': 1798295,\n",
              "   'views': 47724,\n",
              "   'webformatHeight': 426,\n",
              "   'webformatURL': 'https://pixabay.com/get/gd41531a35a3d4411757e799127cc71aefffc1379bdcae1204bb12735832c95dfdba4dc924872cb323ca983063dfc2bd3d000ee0deeb4b1b5b94c5d6a32fdfed4_640.jpg',\n",
              "   'webformatWidth': 640},\n",
              "  {'comments': 51,\n",
              "   'downloads': 33669,\n",
              "   'favorites': 421,\n",
              "   'id': 190483,\n",
              "   'imageHeight': 1440,\n",
              "   'imageSize': 2093738,\n",
              "   'imageWidth': 2160,\n",
              "   'largeImageURL': 'https://pixabay.com/get/g26e85638f0741f4a9d4f180608e9f072b0d488ffbac4659fb23b037452ad12ed817bf04a121639138c4b33ed68b30ea03e8fa4a89d84be13a8513b800d8dbfd0_1280.jpg',\n",
              "   'likes': 422,\n",
              "   'pageURL': 'https://pixabay.com/photos/bike-bicycle-wheels-bicycle-wheels-190483/',\n",
              "   'previewHeight': 99,\n",
              "   'previewURL': 'https://cdn.pixabay.com/photo/2013/10/03/23/19/bike-190483_150.jpg',\n",
              "   'previewWidth': 150,\n",
              "   'tags': 'bike, bicycle, wheels',\n",
              "   'type': 'photo',\n",
              "   'user': 'danfador',\n",
              "   'userImageURL': '',\n",
              "   'user_id': 55851,\n",
              "   'views': 119154,\n",
              "   'webformatHeight': 426,\n",
              "   'webformatURL': 'https://pixabay.com/get/gd04de2ae29dee6ccde079da2c108fb1ab9f87d335327030d6a392bc97c4e1891ff18190bd67bec84d87b6ef2bb30f267_640.jpg',\n",
              "   'webformatWidth': 640},\n",
              "  {'comments': 113,\n",
              "   'downloads': 113724,\n",
              "   'favorites': 249,\n",
              "   'id': 3705716,\n",
              "   'imageHeight': 2304,\n",
              "   'imageSize': 1914197,\n",
              "   'imageWidth': 3456,\n",
              "   'largeImageURL': 'https://pixabay.com/get/g4e137b8bd0ac407260c77a8c4b13a5aeef099fe56bbfe2aa925831fe9b4f4fe5727792022f7adf64cedfc94627e09811dbf08c7c302ead78400f6d0b9e66b882_1280.jpg',\n",
              "   'likes': 231,\n",
              "   'pageURL': 'https://pixabay.com/photos/flowers-plant-blossom-bloom-nature-3705716/',\n",
              "   'previewHeight': 99,\n",
              "   'previewURL': 'https://cdn.pixabay.com/photo/2018/09/26/21/47/flowers-3705716_150.jpg',\n",
              "   'previewWidth': 150,\n",
              "   'tags': 'flowers, plant, blossom',\n",
              "   'type': 'photo',\n",
              "   'user': 'klickblick',\n",
              "   'userImageURL': 'https://cdn.pixabay.com/user/2019/09/13/05-18-37-859_250x250.jpg',\n",
              "   'user_id': 8872450,\n",
              "   'views': 125923,\n",
              "   'webformatHeight': 426,\n",
              "   'webformatURL': 'https://pixabay.com/get/gfec7892bcab96fe1f4866ef272c0716850cb7817f258ce127fc2c40ffba7fd45fdf00840139f7ace2a4cdf67a866991b152ef426f5686f7c0da1f98124b34868_640.jpg',\n",
              "   'webformatWidth': 640}],\n",
              " 'total': 29130,\n",
              " 'totalHits': 500}"
            ]
          },
          "metadata": {
            "tags": []
          },
          "execution_count": 24
        }
      ]
    },
    {
      "cell_type": "code",
      "metadata": {
        "id": "nBD28HdIFjlE"
      },
      "source": [
        "path = '/g/My Drive/Tensorflow AI/download'\n",
        "hits = content['hits']\n",
        "for i in range(len(hits)):\n",
        "  img_url = hits[i]['webformatURL']\n",
        "  with open(path + '/' + str(i) + '.' + img_url.split(\".\")[-1], \"wb\") as img:\n",
        "            img.write(requests.get(img_url).content)"
      ],
      "execution_count": null,
      "outputs": []
    },
    {
      "cell_type": "markdown",
      "metadata": {
        "id": "yYoOTd2mH17E"
      },
      "source": [
        "함수로 만들고 갯수를 지정하여 받을 수 있게해봅시다"
      ]
    },
    {
      "cell_type": "code",
      "metadata": {
        "id": "cjzHh_mRH6Oc"
      },
      "source": [
        "def pix_img(query, API_KEY, img_size, path, page, filename):\n",
        "  #img_size:  ['previewURL', 'largeImageURL', 'webformatURL']  \n",
        "  URL = 'https://pixabay.com/api/?key={}&q={}&image_type=photo&page={}'.format(API_KEY, query, page)  \n",
        "  res = requests.get(URL)\n",
        "  content = json.loads(res.content)\n",
        "  \n",
        "  hits = content['hits']  \n",
        "  for i in range(len(hits)):\n",
        "    img_url = hits[i][img_size]\n",
        "    print(i)\n",
        "    with open(path + '/' + filename + str(i) + '.' + img_url.split(\".\")[-1], \"wb\") as img:\n",
        "              img.write(requests.get(img_url).content)"
      ],
      "execution_count": null,
      "outputs": []
    },
    {
      "cell_type": "code",
      "metadata": {
        "id": "aN2J8XTaJ9_h"
      },
      "source": [
        "API_KEY='21021709-a4b547817146b76ed85498a4f'\n",
        "path = '/g/My Drive/Tensorflow AI/download'"
      ],
      "execution_count": null,
      "outputs": []
    },
    {
      "cell_type": "code",
      "metadata": {
        "colab": {
          "base_uri": "https://localhost:8080/"
        },
        "id": "9rv2iS4ZIvtc",
        "outputId": "65f3af06-d35a-46b8-81b8-5ad2193f5b78"
      },
      "source": [
        "pix_img('red+flower', API_KEY, 'largeImageURL', path, 1, 'red flower')"
      ],
      "execution_count": null,
      "outputs": [
        {
          "output_type": "stream",
          "text": [
            "0\n",
            "1\n",
            "2\n",
            "3\n",
            "4\n",
            "5\n",
            "6\n",
            "7\n",
            "8\n",
            "9\n",
            "10\n",
            "11\n",
            "12\n",
            "13\n",
            "14\n",
            "15\n",
            "16\n",
            "17\n",
            "18\n",
            "19\n"
          ],
          "name": "stdout"
        }
      ]
    },
    {
      "cell_type": "markdown",
      "metadata": {
        "id": "8_MRDwiuES4l"
      },
      "source": [
        "빠르게 다운로드해야하고, 받을 수있는 Rate의 제한이 적은 경우에는 아래의 \n",
        "라이브러리를 사용하면 훨씬 빠르게 받을 수 있습니다.\n",
        "\n",
        "https://docs.aiohttp.org/en/stable/\n"
      ]
    }
  ]
}