{
  "nbformat": 4,
  "nbformat_minor": 0,
  "metadata": {
    "kernelspec": {
      "name": "python3",
      "display_name": "Python 3",
      "language": "python"
    },
    "language_info": {
      "mimetype": "text/x-python",
      "nbconvert_exporter": "python",
      "name": "python",
      "pygments_lexer": "ipython3",
      "version": "3.5.4",
      "file_extension": ".py",
      "codemirror_mode": {
        "version": 3,
        "name": "ipython"
      }
    },
    "colab": {
      "name": "5_1_조건_검색.ipynb",
      "provenance": [],
      "collapsed_sections": [],
      "include_colab_link": true
    }
  },
  "cells": [
    {
      "cell_type": "markdown",
      "metadata": {
        "id": "view-in-github",
        "colab_type": "text"
      },
      "source": [
        "<a href=\"https://colab.research.google.com/github/joohoshin/TensorflowAI/blob/main/5_1_%EC%A1%B0%EA%B1%B4_%EA%B2%80%EC%83%89.ipynb\" target=\"_parent\"><img src=\"https://colab.research.google.com/assets/colab-badge.svg\" alt=\"Open In Colab\"/></a>"
      ]
    },
    {
      "cell_type": "markdown",
      "metadata": {
        "id": "OshWSQr2wVek"
      },
      "source": [
        "# 조건 검색\n",
        "* pandas에서는 특정 조건을 만족하는 행만 쉽게 추출할 수 있습니다\n",
        "* numpy로 간단한 데이터를 만들고 조건에 맞는 행을 선택해봅시다"
      ]
    },
    {
      "cell_type": "code",
      "metadata": {
        "id": "2TemFr3vX5Md"
      },
      "source": [
        "import pandas as pd\r\n",
        "import numpy as np\r\n",
        "\r\n",
        "# numpy.random을 활용해서 가상의 성적을 만듭시다\r\n",
        "n_student = 100\r\n",
        "\r\n",
        "# 학생 아이디는 중복이 있으면 안됨, numpy는 choice를 사용해서 샘플링 가능, \r\n",
        "# 중복 없이 선택시는 replace=False 옵션 활용\r\n",
        "student_id = np.random.choice(range(10000, 20000), n_student, replace = False) "
      ],
      "execution_count": null,
      "outputs": []
    },
    {
      "cell_type": "code",
      "metadata": {
        "colab": {
          "base_uri": "https://localhost:8080/"
        },
        "id": "UYJ8M1IVatzh",
        "outputId": "7fce78de-de6a-4c20-eb44-b8516ddfd132"
      },
      "source": [
        "student_id"
      ],
      "execution_count": null,
      "outputs": [
        {
          "output_type": "execute_result",
          "data": {
            "text/plain": [
              "array([18241, 10922, 13033, 19771, 12877, 15500, 17082, 13340, 11667,\n",
              "       12613, 13549, 12844, 18349, 12357, 13174, 18188, 19944, 15007,\n",
              "       18848, 16141, 15252, 12908, 14507, 15292, 13650, 16597, 12986,\n",
              "       14480, 17291, 15591, 11181, 16625, 11570, 12243, 10493, 11464,\n",
              "       17139, 11429, 18215, 14886, 15175, 18844, 15240, 11000, 11544,\n",
              "       12007, 14879, 16565, 14687, 17162, 11470, 17379, 12325, 19636,\n",
              "       12861, 13242, 16774, 18748, 17541, 12000, 11465, 18060, 10678,\n",
              "       19326, 12376, 11673, 11617, 17022, 18233, 15832, 11835, 14902,\n",
              "       16095, 14856, 15099, 12838, 17342, 10118, 17023, 16878, 15685,\n",
              "       18359, 19025, 11838, 11524, 14751, 15724, 16406, 14093, 18038,\n",
              "       10076, 16200, 11446, 15443, 13373, 15748, 19923, 15573, 11236,\n",
              "       11336])"
            ]
          },
          "metadata": {
            "tags": []
          },
          "execution_count": 22
        }
      ]
    },
    {
      "cell_type": "code",
      "metadata": {
        "id": "WDfgmj7zaL8y"
      },
      "source": [
        "머신러닝 = np.random.choice(range(70, 101), n_student)\r\n",
        "딥러닝 = np.random.choice(range(50, 101), n_student)\r\n",
        "파이썬 = np.random.choice(range(40, 101), n_student)"
      ],
      "execution_count": null,
      "outputs": []
    },
    {
      "cell_type": "code",
      "metadata": {
        "colab": {
          "base_uri": "https://localhost:8080/",
          "height": 415
        },
        "id": "75EUja4NX8fV",
        "outputId": "b2b9a4d6-318a-47d8-c80a-1b18e18b43ef"
      },
      "source": [
        "# pandas dataframe으로 만들어봅시다\r\n",
        "grade = pd.DataFrame({'id':student_id, '머신러닝':머신러닝, '딥러닝':딥러닝, '파이썬':파이썬})\r\n",
        "grade"
      ],
      "execution_count": null,
      "outputs": [
        {
          "output_type": "execute_result",
          "data": {
            "text/html": [
              "<div>\n",
              "<style scoped>\n",
              "    .dataframe tbody tr th:only-of-type {\n",
              "        vertical-align: middle;\n",
              "    }\n",
              "\n",
              "    .dataframe tbody tr th {\n",
              "        vertical-align: top;\n",
              "    }\n",
              "\n",
              "    .dataframe thead th {\n",
              "        text-align: right;\n",
              "    }\n",
              "</style>\n",
              "<table border=\"1\" class=\"dataframe\">\n",
              "  <thead>\n",
              "    <tr style=\"text-align: right;\">\n",
              "      <th></th>\n",
              "      <th>id</th>\n",
              "      <th>머신러닝</th>\n",
              "      <th>딥러닝</th>\n",
              "      <th>파이썬</th>\n",
              "    </tr>\n",
              "  </thead>\n",
              "  <tbody>\n",
              "    <tr>\n",
              "      <th>0</th>\n",
              "      <td>18241</td>\n",
              "      <td>75</td>\n",
              "      <td>90</td>\n",
              "      <td>94</td>\n",
              "    </tr>\n",
              "    <tr>\n",
              "      <th>1</th>\n",
              "      <td>10922</td>\n",
              "      <td>74</td>\n",
              "      <td>85</td>\n",
              "      <td>57</td>\n",
              "    </tr>\n",
              "    <tr>\n",
              "      <th>2</th>\n",
              "      <td>13033</td>\n",
              "      <td>78</td>\n",
              "      <td>75</td>\n",
              "      <td>66</td>\n",
              "    </tr>\n",
              "    <tr>\n",
              "      <th>3</th>\n",
              "      <td>19771</td>\n",
              "      <td>80</td>\n",
              "      <td>90</td>\n",
              "      <td>70</td>\n",
              "    </tr>\n",
              "    <tr>\n",
              "      <th>4</th>\n",
              "      <td>12877</td>\n",
              "      <td>77</td>\n",
              "      <td>84</td>\n",
              "      <td>53</td>\n",
              "    </tr>\n",
              "    <tr>\n",
              "      <th>...</th>\n",
              "      <td>...</td>\n",
              "      <td>...</td>\n",
              "      <td>...</td>\n",
              "      <td>...</td>\n",
              "    </tr>\n",
              "    <tr>\n",
              "      <th>95</th>\n",
              "      <td>15748</td>\n",
              "      <td>97</td>\n",
              "      <td>72</td>\n",
              "      <td>99</td>\n",
              "    </tr>\n",
              "    <tr>\n",
              "      <th>96</th>\n",
              "      <td>19923</td>\n",
              "      <td>80</td>\n",
              "      <td>74</td>\n",
              "      <td>43</td>\n",
              "    </tr>\n",
              "    <tr>\n",
              "      <th>97</th>\n",
              "      <td>15573</td>\n",
              "      <td>99</td>\n",
              "      <td>71</td>\n",
              "      <td>92</td>\n",
              "    </tr>\n",
              "    <tr>\n",
              "      <th>98</th>\n",
              "      <td>11236</td>\n",
              "      <td>86</td>\n",
              "      <td>72</td>\n",
              "      <td>50</td>\n",
              "    </tr>\n",
              "    <tr>\n",
              "      <th>99</th>\n",
              "      <td>11336</td>\n",
              "      <td>76</td>\n",
              "      <td>83</td>\n",
              "      <td>91</td>\n",
              "    </tr>\n",
              "  </tbody>\n",
              "</table>\n",
              "<p>100 rows × 4 columns</p>\n",
              "</div>"
            ],
            "text/plain": [
              "       id  머신러닝  딥러닝  파이썬\n",
              "0   18241    75   90   94\n",
              "1   10922    74   85   57\n",
              "2   13033    78   75   66\n",
              "3   19771    80   90   70\n",
              "4   12877    77   84   53\n",
              "..    ...   ...  ...  ...\n",
              "95  15748    97   72   99\n",
              "96  19923    80   74   43\n",
              "97  15573    99   71   92\n",
              "98  11236    86   72   50\n",
              "99  11336    76   83   91\n",
              "\n",
              "[100 rows x 4 columns]"
            ]
          },
          "metadata": {
            "tags": []
          },
          "execution_count": 24
        }
      ]
    },
    {
      "cell_type": "code",
      "metadata": {
        "id": "a4DIMdHHYk4y"
      },
      "source": [
        "grade =grade.set_index('id')"
      ],
      "execution_count": null,
      "outputs": []
    },
    {
      "cell_type": "code",
      "metadata": {
        "trusted": false,
        "id": "qKCOWzqswVes",
        "colab": {
          "base_uri": "https://localhost:8080/",
          "height": 446
        },
        "outputId": "6e66134e-20ea-42bc-cc3a-53488b81fd8f"
      },
      "source": [
        "grade"
      ],
      "execution_count": null,
      "outputs": [
        {
          "output_type": "execute_result",
          "data": {
            "text/html": [
              "<div>\n",
              "<style scoped>\n",
              "    .dataframe tbody tr th:only-of-type {\n",
              "        vertical-align: middle;\n",
              "    }\n",
              "\n",
              "    .dataframe tbody tr th {\n",
              "        vertical-align: top;\n",
              "    }\n",
              "\n",
              "    .dataframe thead th {\n",
              "        text-align: right;\n",
              "    }\n",
              "</style>\n",
              "<table border=\"1\" class=\"dataframe\">\n",
              "  <thead>\n",
              "    <tr style=\"text-align: right;\">\n",
              "      <th></th>\n",
              "      <th>머신러닝</th>\n",
              "      <th>딥러닝</th>\n",
              "      <th>파이썬</th>\n",
              "    </tr>\n",
              "    <tr>\n",
              "      <th>id</th>\n",
              "      <th></th>\n",
              "      <th></th>\n",
              "      <th></th>\n",
              "    </tr>\n",
              "  </thead>\n",
              "  <tbody>\n",
              "    <tr>\n",
              "      <th>18241</th>\n",
              "      <td>75</td>\n",
              "      <td>90</td>\n",
              "      <td>94</td>\n",
              "    </tr>\n",
              "    <tr>\n",
              "      <th>10922</th>\n",
              "      <td>74</td>\n",
              "      <td>85</td>\n",
              "      <td>57</td>\n",
              "    </tr>\n",
              "    <tr>\n",
              "      <th>13033</th>\n",
              "      <td>78</td>\n",
              "      <td>75</td>\n",
              "      <td>66</td>\n",
              "    </tr>\n",
              "    <tr>\n",
              "      <th>19771</th>\n",
              "      <td>80</td>\n",
              "      <td>90</td>\n",
              "      <td>70</td>\n",
              "    </tr>\n",
              "    <tr>\n",
              "      <th>12877</th>\n",
              "      <td>77</td>\n",
              "      <td>84</td>\n",
              "      <td>53</td>\n",
              "    </tr>\n",
              "    <tr>\n",
              "      <th>...</th>\n",
              "      <td>...</td>\n",
              "      <td>...</td>\n",
              "      <td>...</td>\n",
              "    </tr>\n",
              "    <tr>\n",
              "      <th>15748</th>\n",
              "      <td>97</td>\n",
              "      <td>72</td>\n",
              "      <td>99</td>\n",
              "    </tr>\n",
              "    <tr>\n",
              "      <th>19923</th>\n",
              "      <td>80</td>\n",
              "      <td>74</td>\n",
              "      <td>43</td>\n",
              "    </tr>\n",
              "    <tr>\n",
              "      <th>15573</th>\n",
              "      <td>99</td>\n",
              "      <td>71</td>\n",
              "      <td>92</td>\n",
              "    </tr>\n",
              "    <tr>\n",
              "      <th>11236</th>\n",
              "      <td>86</td>\n",
              "      <td>72</td>\n",
              "      <td>50</td>\n",
              "    </tr>\n",
              "    <tr>\n",
              "      <th>11336</th>\n",
              "      <td>76</td>\n",
              "      <td>83</td>\n",
              "      <td>91</td>\n",
              "    </tr>\n",
              "  </tbody>\n",
              "</table>\n",
              "<p>100 rows × 3 columns</p>\n",
              "</div>"
            ],
            "text/plain": [
              "       머신러닝  딥러닝  파이썬\n",
              "id                   \n",
              "18241    75   90   94\n",
              "10922    74   85   57\n",
              "13033    78   75   66\n",
              "19771    80   90   70\n",
              "12877    77   84   53\n",
              "...     ...  ...  ...\n",
              "15748    97   72   99\n",
              "19923    80   74   43\n",
              "15573    99   71   92\n",
              "11236    86   72   50\n",
              "11336    76   83   91\n",
              "\n",
              "[100 rows x 3 columns]"
            ]
          },
          "metadata": {
            "tags": []
          },
          "execution_count": 26
        }
      ]
    },
    {
      "cell_type": "markdown",
      "metadata": {
        "id": "mpL01FN_wVez"
      },
      "source": [
        "* df.query()를 사용해서 특정 조건만 추출할 수 있습니다"
      ]
    },
    {
      "cell_type": "code",
      "metadata": {
        "trusted": false,
        "id": "nJTxNwGNwVe0"
      },
      "source": [
        "머신러닝A = grade.query('머신러닝>=90')"
      ],
      "execution_count": null,
      "outputs": []
    },
    {
      "cell_type": "code",
      "metadata": {
        "trusted": false,
        "id": "Ikd5kaslwVe5",
        "colab": {
          "base_uri": "https://localhost:8080/",
          "height": 1000
        },
        "outputId": "ac5cb7dc-e586-4583-eb69-4c7a77eb947a"
      },
      "source": [
        "머신러닝A\n"
      ],
      "execution_count": null,
      "outputs": [
        {
          "output_type": "execute_result",
          "data": {
            "text/html": [
              "<div>\n",
              "<style scoped>\n",
              "    .dataframe tbody tr th:only-of-type {\n",
              "        vertical-align: middle;\n",
              "    }\n",
              "\n",
              "    .dataframe tbody tr th {\n",
              "        vertical-align: top;\n",
              "    }\n",
              "\n",
              "    .dataframe thead th {\n",
              "        text-align: right;\n",
              "    }\n",
              "</style>\n",
              "<table border=\"1\" class=\"dataframe\">\n",
              "  <thead>\n",
              "    <tr style=\"text-align: right;\">\n",
              "      <th></th>\n",
              "      <th>머신러닝</th>\n",
              "      <th>딥러닝</th>\n",
              "      <th>파이썬</th>\n",
              "    </tr>\n",
              "    <tr>\n",
              "      <th>id</th>\n",
              "      <th></th>\n",
              "      <th></th>\n",
              "      <th></th>\n",
              "    </tr>\n",
              "  </thead>\n",
              "  <tbody>\n",
              "    <tr>\n",
              "      <th>11667</th>\n",
              "      <td>97</td>\n",
              "      <td>72</td>\n",
              "      <td>87</td>\n",
              "    </tr>\n",
              "    <tr>\n",
              "      <th>12613</th>\n",
              "      <td>100</td>\n",
              "      <td>89</td>\n",
              "      <td>82</td>\n",
              "    </tr>\n",
              "    <tr>\n",
              "      <th>12844</th>\n",
              "      <td>90</td>\n",
              "      <td>52</td>\n",
              "      <td>74</td>\n",
              "    </tr>\n",
              "    <tr>\n",
              "      <th>13174</th>\n",
              "      <td>92</td>\n",
              "      <td>74</td>\n",
              "      <td>54</td>\n",
              "    </tr>\n",
              "    <tr>\n",
              "      <th>15252</th>\n",
              "      <td>91</td>\n",
              "      <td>55</td>\n",
              "      <td>78</td>\n",
              "    </tr>\n",
              "    <tr>\n",
              "      <th>15292</th>\n",
              "      <td>98</td>\n",
              "      <td>82</td>\n",
              "      <td>58</td>\n",
              "    </tr>\n",
              "    <tr>\n",
              "      <th>13650</th>\n",
              "      <td>95</td>\n",
              "      <td>80</td>\n",
              "      <td>93</td>\n",
              "    </tr>\n",
              "    <tr>\n",
              "      <th>17291</th>\n",
              "      <td>98</td>\n",
              "      <td>100</td>\n",
              "      <td>57</td>\n",
              "    </tr>\n",
              "    <tr>\n",
              "      <th>15591</th>\n",
              "      <td>96</td>\n",
              "      <td>56</td>\n",
              "      <td>54</td>\n",
              "    </tr>\n",
              "    <tr>\n",
              "      <th>11570</th>\n",
              "      <td>97</td>\n",
              "      <td>66</td>\n",
              "      <td>80</td>\n",
              "    </tr>\n",
              "    <tr>\n",
              "      <th>11464</th>\n",
              "      <td>97</td>\n",
              "      <td>86</td>\n",
              "      <td>42</td>\n",
              "    </tr>\n",
              "    <tr>\n",
              "      <th>17139</th>\n",
              "      <td>90</td>\n",
              "      <td>52</td>\n",
              "      <td>99</td>\n",
              "    </tr>\n",
              "    <tr>\n",
              "      <th>14886</th>\n",
              "      <td>95</td>\n",
              "      <td>70</td>\n",
              "      <td>77</td>\n",
              "    </tr>\n",
              "    <tr>\n",
              "      <th>18844</th>\n",
              "      <td>98</td>\n",
              "      <td>61</td>\n",
              "      <td>75</td>\n",
              "    </tr>\n",
              "    <tr>\n",
              "      <th>15240</th>\n",
              "      <td>91</td>\n",
              "      <td>83</td>\n",
              "      <td>47</td>\n",
              "    </tr>\n",
              "    <tr>\n",
              "      <th>11000</th>\n",
              "      <td>100</td>\n",
              "      <td>67</td>\n",
              "      <td>57</td>\n",
              "    </tr>\n",
              "    <tr>\n",
              "      <th>16565</th>\n",
              "      <td>95</td>\n",
              "      <td>62</td>\n",
              "      <td>63</td>\n",
              "    </tr>\n",
              "    <tr>\n",
              "      <th>11470</th>\n",
              "      <td>99</td>\n",
              "      <td>88</td>\n",
              "      <td>61</td>\n",
              "    </tr>\n",
              "    <tr>\n",
              "      <th>19636</th>\n",
              "      <td>95</td>\n",
              "      <td>67</td>\n",
              "      <td>67</td>\n",
              "    </tr>\n",
              "    <tr>\n",
              "      <th>12861</th>\n",
              "      <td>96</td>\n",
              "      <td>94</td>\n",
              "      <td>60</td>\n",
              "    </tr>\n",
              "    <tr>\n",
              "      <th>13242</th>\n",
              "      <td>92</td>\n",
              "      <td>86</td>\n",
              "      <td>81</td>\n",
              "    </tr>\n",
              "    <tr>\n",
              "      <th>10678</th>\n",
              "      <td>100</td>\n",
              "      <td>85</td>\n",
              "      <td>82</td>\n",
              "    </tr>\n",
              "    <tr>\n",
              "      <th>19326</th>\n",
              "      <td>97</td>\n",
              "      <td>84</td>\n",
              "      <td>53</td>\n",
              "    </tr>\n",
              "    <tr>\n",
              "      <th>18233</th>\n",
              "      <td>90</td>\n",
              "      <td>52</td>\n",
              "      <td>43</td>\n",
              "    </tr>\n",
              "    <tr>\n",
              "      <th>15832</th>\n",
              "      <td>92</td>\n",
              "      <td>60</td>\n",
              "      <td>90</td>\n",
              "    </tr>\n",
              "    <tr>\n",
              "      <th>11835</th>\n",
              "      <td>97</td>\n",
              "      <td>54</td>\n",
              "      <td>83</td>\n",
              "    </tr>\n",
              "    <tr>\n",
              "      <th>12838</th>\n",
              "      <td>98</td>\n",
              "      <td>78</td>\n",
              "      <td>67</td>\n",
              "    </tr>\n",
              "    <tr>\n",
              "      <th>17023</th>\n",
              "      <td>96</td>\n",
              "      <td>86</td>\n",
              "      <td>52</td>\n",
              "    </tr>\n",
              "    <tr>\n",
              "      <th>15685</th>\n",
              "      <td>92</td>\n",
              "      <td>80</td>\n",
              "      <td>58</td>\n",
              "    </tr>\n",
              "    <tr>\n",
              "      <th>19025</th>\n",
              "      <td>98</td>\n",
              "      <td>65</td>\n",
              "      <td>53</td>\n",
              "    </tr>\n",
              "    <tr>\n",
              "      <th>11524</th>\n",
              "      <td>93</td>\n",
              "      <td>71</td>\n",
              "      <td>98</td>\n",
              "    </tr>\n",
              "    <tr>\n",
              "      <th>14751</th>\n",
              "      <td>90</td>\n",
              "      <td>62</td>\n",
              "      <td>90</td>\n",
              "    </tr>\n",
              "    <tr>\n",
              "      <th>18038</th>\n",
              "      <td>92</td>\n",
              "      <td>81</td>\n",
              "      <td>79</td>\n",
              "    </tr>\n",
              "    <tr>\n",
              "      <th>15748</th>\n",
              "      <td>97</td>\n",
              "      <td>72</td>\n",
              "      <td>99</td>\n",
              "    </tr>\n",
              "    <tr>\n",
              "      <th>15573</th>\n",
              "      <td>99</td>\n",
              "      <td>71</td>\n",
              "      <td>92</td>\n",
              "    </tr>\n",
              "  </tbody>\n",
              "</table>\n",
              "</div>"
            ],
            "text/plain": [
              "       머신러닝  딥러닝  파이썬\n",
              "id                   \n",
              "11667    97   72   87\n",
              "12613   100   89   82\n",
              "12844    90   52   74\n",
              "13174    92   74   54\n",
              "15252    91   55   78\n",
              "15292    98   82   58\n",
              "13650    95   80   93\n",
              "17291    98  100   57\n",
              "15591    96   56   54\n",
              "11570    97   66   80\n",
              "11464    97   86   42\n",
              "17139    90   52   99\n",
              "14886    95   70   77\n",
              "18844    98   61   75\n",
              "15240    91   83   47\n",
              "11000   100   67   57\n",
              "16565    95   62   63\n",
              "11470    99   88   61\n",
              "19636    95   67   67\n",
              "12861    96   94   60\n",
              "13242    92   86   81\n",
              "10678   100   85   82\n",
              "19326    97   84   53\n",
              "18233    90   52   43\n",
              "15832    92   60   90\n",
              "11835    97   54   83\n",
              "12838    98   78   67\n",
              "17023    96   86   52\n",
              "15685    92   80   58\n",
              "19025    98   65   53\n",
              "11524    93   71   98\n",
              "14751    90   62   90\n",
              "18038    92   81   79\n",
              "15748    97   72   99\n",
              "15573    99   71   92"
            ]
          },
          "metadata": {
            "tags": []
          },
          "execution_count": 28
        }
      ]
    },
    {
      "cell_type": "code",
      "metadata": {
        "trusted": false,
        "id": "ax1ljYa3wVe-",
        "colab": {
          "base_uri": "https://localhost:8080/"
        },
        "outputId": "ea3e3397-1077-443e-8493-2129901fa9e4"
      },
      "source": [
        "print('머신러닝 A 학점 학생수: ',len(머신러닝A), '명')"
      ],
      "execution_count": null,
      "outputs": [
        {
          "output_type": "stream",
          "text": [
            "머신러닝 A 학점 학생수:  35 명\n"
          ],
          "name": "stdout"
        }
      ]
    },
    {
      "cell_type": "markdown",
      "metadata": {
        "id": "xx9A68YJwVfD"
      },
      "source": [
        "* &, and 나 |, or를 사용해서 다양한 조건을 검색할 수 있습니다. "
      ]
    },
    {
      "cell_type": "code",
      "metadata": {
        "trusted": false,
        "id": "AvUgyB_6wVfE",
        "colab": {
          "base_uri": "https://localhost:8080/",
          "height": 325
        },
        "outputId": "cabe6ad9-9c41-4859-e98b-7b1a9d2b5cfa"
      },
      "source": [
        "# 3과목 모두 80점 이상인 학생 추출\n",
        "point = 80\n",
        "\n",
        "#all = grade.query('머신러닝>=@point and 딥러닝 >=@point and 파이썬 >=@point')\n",
        "all = grade.query('머신러닝>=@point & 딥러닝 >=@point & 파이썬 >=@point')\n",
        "all"
      ],
      "execution_count": null,
      "outputs": [
        {
          "output_type": "execute_result",
          "data": {
            "text/html": [
              "<div>\n",
              "<style scoped>\n",
              "    .dataframe tbody tr th:only-of-type {\n",
              "        vertical-align: middle;\n",
              "    }\n",
              "\n",
              "    .dataframe tbody tr th {\n",
              "        vertical-align: top;\n",
              "    }\n",
              "\n",
              "    .dataframe thead th {\n",
              "        text-align: right;\n",
              "    }\n",
              "</style>\n",
              "<table border=\"1\" class=\"dataframe\">\n",
              "  <thead>\n",
              "    <tr style=\"text-align: right;\">\n",
              "      <th></th>\n",
              "      <th>머신러닝</th>\n",
              "      <th>딥러닝</th>\n",
              "      <th>파이썬</th>\n",
              "    </tr>\n",
              "    <tr>\n",
              "      <th>id</th>\n",
              "      <th></th>\n",
              "      <th></th>\n",
              "      <th></th>\n",
              "    </tr>\n",
              "  </thead>\n",
              "  <tbody>\n",
              "    <tr>\n",
              "      <th>12613</th>\n",
              "      <td>100</td>\n",
              "      <td>89</td>\n",
              "      <td>82</td>\n",
              "    </tr>\n",
              "    <tr>\n",
              "      <th>18848</th>\n",
              "      <td>84</td>\n",
              "      <td>95</td>\n",
              "      <td>83</td>\n",
              "    </tr>\n",
              "    <tr>\n",
              "      <th>13650</th>\n",
              "      <td>95</td>\n",
              "      <td>80</td>\n",
              "      <td>93</td>\n",
              "    </tr>\n",
              "    <tr>\n",
              "      <th>16625</th>\n",
              "      <td>88</td>\n",
              "      <td>100</td>\n",
              "      <td>100</td>\n",
              "    </tr>\n",
              "    <tr>\n",
              "      <th>12243</th>\n",
              "      <td>82</td>\n",
              "      <td>84</td>\n",
              "      <td>88</td>\n",
              "    </tr>\n",
              "    <tr>\n",
              "      <th>13242</th>\n",
              "      <td>92</td>\n",
              "      <td>86</td>\n",
              "      <td>81</td>\n",
              "    </tr>\n",
              "    <tr>\n",
              "      <th>10678</th>\n",
              "      <td>100</td>\n",
              "      <td>85</td>\n",
              "      <td>82</td>\n",
              "    </tr>\n",
              "    <tr>\n",
              "      <th>11617</th>\n",
              "      <td>87</td>\n",
              "      <td>84</td>\n",
              "      <td>94</td>\n",
              "    </tr>\n",
              "  </tbody>\n",
              "</table>\n",
              "</div>"
            ],
            "text/plain": [
              "       머신러닝  딥러닝  파이썬\n",
              "id                   \n",
              "12613   100   89   82\n",
              "18848    84   95   83\n",
              "13650    95   80   93\n",
              "16625    88  100  100\n",
              "12243    82   84   88\n",
              "13242    92   86   81\n",
              "10678   100   85   82\n",
              "11617    87   84   94"
            ]
          },
          "metadata": {
            "tags": []
          },
          "execution_count": 30
        }
      ]
    },
    {
      "cell_type": "code",
      "metadata": {
        "trusted": false,
        "id": "gKJM2L1bwVfJ",
        "colab": {
          "base_uri": "https://localhost:8080/",
          "height": 446
        },
        "outputId": "534a465d-45e3-470c-a3b8-4a58816b9d4f"
      },
      "source": [
        "# 3과목 중 1과목 이상 70점 미만인 학생 추출\n",
        "point = 70\n",
        "\n",
        "#all = grade.query('머신러닝 < @point or 딥러닝 < @point or 파이썬 < @point')\n",
        "all = grade.query('머신러닝 < @point | 딥러닝 < @point | 파이썬 < @point')\n",
        "all"
      ],
      "execution_count": null,
      "outputs": [
        {
          "output_type": "execute_result",
          "data": {
            "text/html": [
              "<div>\n",
              "<style scoped>\n",
              "    .dataframe tbody tr th:only-of-type {\n",
              "        vertical-align: middle;\n",
              "    }\n",
              "\n",
              "    .dataframe tbody tr th {\n",
              "        vertical-align: top;\n",
              "    }\n",
              "\n",
              "    .dataframe thead th {\n",
              "        text-align: right;\n",
              "    }\n",
              "</style>\n",
              "<table border=\"1\" class=\"dataframe\">\n",
              "  <thead>\n",
              "    <tr style=\"text-align: right;\">\n",
              "      <th></th>\n",
              "      <th>머신러닝</th>\n",
              "      <th>딥러닝</th>\n",
              "      <th>파이썬</th>\n",
              "    </tr>\n",
              "    <tr>\n",
              "      <th>id</th>\n",
              "      <th></th>\n",
              "      <th></th>\n",
              "      <th></th>\n",
              "    </tr>\n",
              "  </thead>\n",
              "  <tbody>\n",
              "    <tr>\n",
              "      <th>10922</th>\n",
              "      <td>74</td>\n",
              "      <td>85</td>\n",
              "      <td>57</td>\n",
              "    </tr>\n",
              "    <tr>\n",
              "      <th>13033</th>\n",
              "      <td>78</td>\n",
              "      <td>75</td>\n",
              "      <td>66</td>\n",
              "    </tr>\n",
              "    <tr>\n",
              "      <th>12877</th>\n",
              "      <td>77</td>\n",
              "      <td>84</td>\n",
              "      <td>53</td>\n",
              "    </tr>\n",
              "    <tr>\n",
              "      <th>15500</th>\n",
              "      <td>78</td>\n",
              "      <td>69</td>\n",
              "      <td>100</td>\n",
              "    </tr>\n",
              "    <tr>\n",
              "      <th>12844</th>\n",
              "      <td>90</td>\n",
              "      <td>52</td>\n",
              "      <td>74</td>\n",
              "    </tr>\n",
              "    <tr>\n",
              "      <th>...</th>\n",
              "      <td>...</td>\n",
              "      <td>...</td>\n",
              "      <td>...</td>\n",
              "    </tr>\n",
              "    <tr>\n",
              "      <th>14093</th>\n",
              "      <td>85</td>\n",
              "      <td>80</td>\n",
              "      <td>46</td>\n",
              "    </tr>\n",
              "    <tr>\n",
              "      <th>16200</th>\n",
              "      <td>85</td>\n",
              "      <td>68</td>\n",
              "      <td>56</td>\n",
              "    </tr>\n",
              "    <tr>\n",
              "      <th>13373</th>\n",
              "      <td>81</td>\n",
              "      <td>50</td>\n",
              "      <td>53</td>\n",
              "    </tr>\n",
              "    <tr>\n",
              "      <th>19923</th>\n",
              "      <td>80</td>\n",
              "      <td>74</td>\n",
              "      <td>43</td>\n",
              "    </tr>\n",
              "    <tr>\n",
              "      <th>11236</th>\n",
              "      <td>86</td>\n",
              "      <td>72</td>\n",
              "      <td>50</td>\n",
              "    </tr>\n",
              "  </tbody>\n",
              "</table>\n",
              "<p>72 rows × 3 columns</p>\n",
              "</div>"
            ],
            "text/plain": [
              "       머신러닝  딥러닝  파이썬\n",
              "id                   \n",
              "10922    74   85   57\n",
              "13033    78   75   66\n",
              "12877    77   84   53\n",
              "15500    78   69  100\n",
              "12844    90   52   74\n",
              "...     ...  ...  ...\n",
              "14093    85   80   46\n",
              "16200    85   68   56\n",
              "13373    81   50   53\n",
              "19923    80   74   43\n",
              "11236    86   72   50\n",
              "\n",
              "[72 rows x 3 columns]"
            ]
          },
          "metadata": {
            "tags": []
          },
          "execution_count": 31
        }
      ]
    },
    {
      "cell_type": "markdown",
      "metadata": {
        "id": "rkty6P_sydBF"
      },
      "source": [
        "# 연산하기"
      ]
    },
    {
      "cell_type": "markdown",
      "metadata": {
        "id": "YlCC0CrSyp0M"
      },
      "source": [
        "\n",
        "\n",
        "*   컬럼명을 바꿔봅시다\n",
        "*   전체를 바꿀때는 df.columns = 컬럼명 리스트 (df는 dataframe 변수명을 넣습니다)\n",
        "*   부분만 바꿀때는 df = df.rename(columns={'이전컬럼명':'새로운컬럼명',...} 바꾸고 싶은 컬럼이름을 딕셔너리로 넣어줍니다. \n",
        "\n"
      ]
    },
    {
      "cell_type": "code",
      "metadata": {
        "colab": {
          "base_uri": "https://localhost:8080/"
        },
        "id": "ZL93f1SScK94",
        "outputId": "da0e9b6a-513d-484b-e412-516e6fe1bd38"
      },
      "source": [
        "grade.columns"
      ],
      "execution_count": null,
      "outputs": [
        {
          "output_type": "execute_result",
          "data": {
            "text/plain": [
              "Index(['머신러닝', '딥러닝', '파이썬'], dtype='object')"
            ]
          },
          "metadata": {
            "tags": []
          },
          "execution_count": 32
        }
      ]
    },
    {
      "cell_type": "code",
      "metadata": {
        "id": "B1Agvrktyfa1"
      },
      "source": [
        "grade.columns = ['퀴즈', '중간고사', '기말고사']"
      ],
      "execution_count": null,
      "outputs": []
    },
    {
      "cell_type": "code",
      "metadata": {
        "colab": {
          "base_uri": "https://localhost:8080/",
          "height": 446
        },
        "id": "fBCpKo95cTip",
        "outputId": "01ea3ee1-e96d-4674-e125-eeda98d2d396"
      },
      "source": [
        "grade"
      ],
      "execution_count": null,
      "outputs": [
        {
          "output_type": "execute_result",
          "data": {
            "text/html": [
              "<div>\n",
              "<style scoped>\n",
              "    .dataframe tbody tr th:only-of-type {\n",
              "        vertical-align: middle;\n",
              "    }\n",
              "\n",
              "    .dataframe tbody tr th {\n",
              "        vertical-align: top;\n",
              "    }\n",
              "\n",
              "    .dataframe thead th {\n",
              "        text-align: right;\n",
              "    }\n",
              "</style>\n",
              "<table border=\"1\" class=\"dataframe\">\n",
              "  <thead>\n",
              "    <tr style=\"text-align: right;\">\n",
              "      <th></th>\n",
              "      <th>퀴즈</th>\n",
              "      <th>중간고사</th>\n",
              "      <th>기말고사</th>\n",
              "    </tr>\n",
              "    <tr>\n",
              "      <th>id</th>\n",
              "      <th></th>\n",
              "      <th></th>\n",
              "      <th></th>\n",
              "    </tr>\n",
              "  </thead>\n",
              "  <tbody>\n",
              "    <tr>\n",
              "      <th>18241</th>\n",
              "      <td>75</td>\n",
              "      <td>90</td>\n",
              "      <td>94</td>\n",
              "    </tr>\n",
              "    <tr>\n",
              "      <th>10922</th>\n",
              "      <td>74</td>\n",
              "      <td>85</td>\n",
              "      <td>57</td>\n",
              "    </tr>\n",
              "    <tr>\n",
              "      <th>13033</th>\n",
              "      <td>78</td>\n",
              "      <td>75</td>\n",
              "      <td>66</td>\n",
              "    </tr>\n",
              "    <tr>\n",
              "      <th>19771</th>\n",
              "      <td>80</td>\n",
              "      <td>90</td>\n",
              "      <td>70</td>\n",
              "    </tr>\n",
              "    <tr>\n",
              "      <th>12877</th>\n",
              "      <td>77</td>\n",
              "      <td>84</td>\n",
              "      <td>53</td>\n",
              "    </tr>\n",
              "    <tr>\n",
              "      <th>...</th>\n",
              "      <td>...</td>\n",
              "      <td>...</td>\n",
              "      <td>...</td>\n",
              "    </tr>\n",
              "    <tr>\n",
              "      <th>15748</th>\n",
              "      <td>97</td>\n",
              "      <td>72</td>\n",
              "      <td>99</td>\n",
              "    </tr>\n",
              "    <tr>\n",
              "      <th>19923</th>\n",
              "      <td>80</td>\n",
              "      <td>74</td>\n",
              "      <td>43</td>\n",
              "    </tr>\n",
              "    <tr>\n",
              "      <th>15573</th>\n",
              "      <td>99</td>\n",
              "      <td>71</td>\n",
              "      <td>92</td>\n",
              "    </tr>\n",
              "    <tr>\n",
              "      <th>11236</th>\n",
              "      <td>86</td>\n",
              "      <td>72</td>\n",
              "      <td>50</td>\n",
              "    </tr>\n",
              "    <tr>\n",
              "      <th>11336</th>\n",
              "      <td>76</td>\n",
              "      <td>83</td>\n",
              "      <td>91</td>\n",
              "    </tr>\n",
              "  </tbody>\n",
              "</table>\n",
              "<p>100 rows × 3 columns</p>\n",
              "</div>"
            ],
            "text/plain": [
              "       퀴즈  중간고사  기말고사\n",
              "id                   \n",
              "18241  75    90    94\n",
              "10922  74    85    57\n",
              "13033  78    75    66\n",
              "19771  80    90    70\n",
              "12877  77    84    53\n",
              "...    ..   ...   ...\n",
              "15748  97    72    99\n",
              "19923  80    74    43\n",
              "15573  99    71    92\n",
              "11236  86    72    50\n",
              "11336  76    83    91\n",
              "\n",
              "[100 rows x 3 columns]"
            ]
          },
          "metadata": {
            "tags": []
          },
          "execution_count": 35
        }
      ]
    },
    {
      "cell_type": "code",
      "metadata": {
        "id": "t6M6powOzPkc"
      },
      "source": [
        "grade = grade.rename(columns = {'중간고사':'중간평가', '기말고사':'기말평가'})"
      ],
      "execution_count": null,
      "outputs": []
    },
    {
      "cell_type": "code",
      "metadata": {
        "id": "Yp64IZqDzZgO",
        "colab": {
          "base_uri": "https://localhost:8080/",
          "height": 233
        },
        "outputId": "18332b32-91b5-4063-c10b-e7ca05a84c32"
      },
      "source": [
        "grade.head()"
      ],
      "execution_count": null,
      "outputs": [
        {
          "output_type": "execute_result",
          "data": {
            "text/html": [
              "<div>\n",
              "<style scoped>\n",
              "    .dataframe tbody tr th:only-of-type {\n",
              "        vertical-align: middle;\n",
              "    }\n",
              "\n",
              "    .dataframe tbody tr th {\n",
              "        vertical-align: top;\n",
              "    }\n",
              "\n",
              "    .dataframe thead th {\n",
              "        text-align: right;\n",
              "    }\n",
              "</style>\n",
              "<table border=\"1\" class=\"dataframe\">\n",
              "  <thead>\n",
              "    <tr style=\"text-align: right;\">\n",
              "      <th></th>\n",
              "      <th>퀴즈</th>\n",
              "      <th>중간평가</th>\n",
              "      <th>기말평가</th>\n",
              "    </tr>\n",
              "    <tr>\n",
              "      <th>id</th>\n",
              "      <th></th>\n",
              "      <th></th>\n",
              "      <th></th>\n",
              "    </tr>\n",
              "  </thead>\n",
              "  <tbody>\n",
              "    <tr>\n",
              "      <th>18241</th>\n",
              "      <td>75</td>\n",
              "      <td>90</td>\n",
              "      <td>94</td>\n",
              "    </tr>\n",
              "    <tr>\n",
              "      <th>10922</th>\n",
              "      <td>74</td>\n",
              "      <td>85</td>\n",
              "      <td>57</td>\n",
              "    </tr>\n",
              "    <tr>\n",
              "      <th>13033</th>\n",
              "      <td>78</td>\n",
              "      <td>75</td>\n",
              "      <td>66</td>\n",
              "    </tr>\n",
              "    <tr>\n",
              "      <th>19771</th>\n",
              "      <td>80</td>\n",
              "      <td>90</td>\n",
              "      <td>70</td>\n",
              "    </tr>\n",
              "    <tr>\n",
              "      <th>12877</th>\n",
              "      <td>77</td>\n",
              "      <td>84</td>\n",
              "      <td>53</td>\n",
              "    </tr>\n",
              "  </tbody>\n",
              "</table>\n",
              "</div>"
            ],
            "text/plain": [
              "       퀴즈  중간평가  기말평가\n",
              "id                   \n",
              "18241  75    90    94\n",
              "10922  74    85    57\n",
              "13033  78    75    66\n",
              "19771  80    90    70\n",
              "12877  77    84    53"
            ]
          },
          "metadata": {
            "tags": []
          },
          "execution_count": 37
        }
      ]
    },
    {
      "cell_type": "markdown",
      "metadata": {
        "id": "GRmY6smLzemH"
      },
      "source": [
        "* 퀴즈 20% 중간 30% 기말 50% 의 비중으로 성적 합계를 계산하는 것으로 가정합시다\n",
        "* assign() 함수에 식을 적을 수 있습니다 .\n",
        "* df['column']은 df.column과 같습니다. "
      ]
    },
    {
      "cell_type": "code",
      "metadata": {
        "id": "JLvhGTpkza56"
      },
      "source": [
        "grade = grade.assign(합계 = grade.퀴즈 * 0.2 + grade.중간평가 * 0.3 + grade.기말평가 * 0.5)"
      ],
      "execution_count": null,
      "outputs": []
    },
    {
      "cell_type": "code",
      "metadata": {
        "id": "Th0Wq6C2zlF9",
        "colab": {
          "base_uri": "https://localhost:8080/",
          "height": 446
        },
        "outputId": "309529ec-9931-4355-ee41-6299eb1ee40b"
      },
      "source": [
        "grade"
      ],
      "execution_count": null,
      "outputs": [
        {
          "output_type": "execute_result",
          "data": {
            "text/html": [
              "<div>\n",
              "<style scoped>\n",
              "    .dataframe tbody tr th:only-of-type {\n",
              "        vertical-align: middle;\n",
              "    }\n",
              "\n",
              "    .dataframe tbody tr th {\n",
              "        vertical-align: top;\n",
              "    }\n",
              "\n",
              "    .dataframe thead th {\n",
              "        text-align: right;\n",
              "    }\n",
              "</style>\n",
              "<table border=\"1\" class=\"dataframe\">\n",
              "  <thead>\n",
              "    <tr style=\"text-align: right;\">\n",
              "      <th></th>\n",
              "      <th>퀴즈</th>\n",
              "      <th>중간평가</th>\n",
              "      <th>기말평가</th>\n",
              "      <th>합계</th>\n",
              "    </tr>\n",
              "    <tr>\n",
              "      <th>id</th>\n",
              "      <th></th>\n",
              "      <th></th>\n",
              "      <th></th>\n",
              "      <th></th>\n",
              "    </tr>\n",
              "  </thead>\n",
              "  <tbody>\n",
              "    <tr>\n",
              "      <th>18241</th>\n",
              "      <td>75</td>\n",
              "      <td>90</td>\n",
              "      <td>94</td>\n",
              "      <td>89.0</td>\n",
              "    </tr>\n",
              "    <tr>\n",
              "      <th>10922</th>\n",
              "      <td>74</td>\n",
              "      <td>85</td>\n",
              "      <td>57</td>\n",
              "      <td>68.8</td>\n",
              "    </tr>\n",
              "    <tr>\n",
              "      <th>13033</th>\n",
              "      <td>78</td>\n",
              "      <td>75</td>\n",
              "      <td>66</td>\n",
              "      <td>71.1</td>\n",
              "    </tr>\n",
              "    <tr>\n",
              "      <th>19771</th>\n",
              "      <td>80</td>\n",
              "      <td>90</td>\n",
              "      <td>70</td>\n",
              "      <td>78.0</td>\n",
              "    </tr>\n",
              "    <tr>\n",
              "      <th>12877</th>\n",
              "      <td>77</td>\n",
              "      <td>84</td>\n",
              "      <td>53</td>\n",
              "      <td>67.1</td>\n",
              "    </tr>\n",
              "    <tr>\n",
              "      <th>...</th>\n",
              "      <td>...</td>\n",
              "      <td>...</td>\n",
              "      <td>...</td>\n",
              "      <td>...</td>\n",
              "    </tr>\n",
              "    <tr>\n",
              "      <th>15748</th>\n",
              "      <td>97</td>\n",
              "      <td>72</td>\n",
              "      <td>99</td>\n",
              "      <td>90.5</td>\n",
              "    </tr>\n",
              "    <tr>\n",
              "      <th>19923</th>\n",
              "      <td>80</td>\n",
              "      <td>74</td>\n",
              "      <td>43</td>\n",
              "      <td>59.7</td>\n",
              "    </tr>\n",
              "    <tr>\n",
              "      <th>15573</th>\n",
              "      <td>99</td>\n",
              "      <td>71</td>\n",
              "      <td>92</td>\n",
              "      <td>87.1</td>\n",
              "    </tr>\n",
              "    <tr>\n",
              "      <th>11236</th>\n",
              "      <td>86</td>\n",
              "      <td>72</td>\n",
              "      <td>50</td>\n",
              "      <td>63.8</td>\n",
              "    </tr>\n",
              "    <tr>\n",
              "      <th>11336</th>\n",
              "      <td>76</td>\n",
              "      <td>83</td>\n",
              "      <td>91</td>\n",
              "      <td>85.6</td>\n",
              "    </tr>\n",
              "  </tbody>\n",
              "</table>\n",
              "<p>100 rows × 4 columns</p>\n",
              "</div>"
            ],
            "text/plain": [
              "       퀴즈  중간평가  기말평가    합계\n",
              "id                         \n",
              "18241  75    90    94  89.0\n",
              "10922  74    85    57  68.8\n",
              "13033  78    75    66  71.1\n",
              "19771  80    90    70  78.0\n",
              "12877  77    84    53  67.1\n",
              "...    ..   ...   ...   ...\n",
              "15748  97    72    99  90.5\n",
              "19923  80    74    43  59.7\n",
              "15573  99    71    92  87.1\n",
              "11236  86    72    50  63.8\n",
              "11336  76    83    91  85.6\n",
              "\n",
              "[100 rows x 4 columns]"
            ]
          },
          "metadata": {
            "tags": []
          },
          "execution_count": 39
        }
      ]
    },
    {
      "cell_type": "markdown",
      "metadata": {
        "id": "U1axTeGqzpmi"
      },
      "source": [
        "* 성적순으로 정렬해봅시다. \n",
        "* sort_values() 함수를 사용합니다. 기본값은 오름차순, 내림차순은 옵션에 ascending= False를 넣어줘야 함"
      ]
    },
    {
      "cell_type": "code",
      "metadata": {
        "id": "qKwSKceZzmK5"
      },
      "source": [
        "grade_sort = grade.sort_values('합계', ascending = False)"
      ],
      "execution_count": null,
      "outputs": []
    },
    {
      "cell_type": "code",
      "metadata": {
        "id": "9lmDyzlBzqQA",
        "colab": {
          "base_uri": "https://localhost:8080/",
          "height": 233
        },
        "outputId": "9efecf12-8005-472b-da7a-3f005192b2e1"
      },
      "source": [
        "grade_sort.head()"
      ],
      "execution_count": null,
      "outputs": [
        {
          "output_type": "execute_result",
          "data": {
            "text/html": [
              "<div>\n",
              "<style scoped>\n",
              "    .dataframe tbody tr th:only-of-type {\n",
              "        vertical-align: middle;\n",
              "    }\n",
              "\n",
              "    .dataframe tbody tr th {\n",
              "        vertical-align: top;\n",
              "    }\n",
              "\n",
              "    .dataframe thead th {\n",
              "        text-align: right;\n",
              "    }\n",
              "</style>\n",
              "<table border=\"1\" class=\"dataframe\">\n",
              "  <thead>\n",
              "    <tr style=\"text-align: right;\">\n",
              "      <th></th>\n",
              "      <th>퀴즈</th>\n",
              "      <th>중간평가</th>\n",
              "      <th>기말평가</th>\n",
              "      <th>합계</th>\n",
              "    </tr>\n",
              "    <tr>\n",
              "      <th>id</th>\n",
              "      <th></th>\n",
              "      <th></th>\n",
              "      <th></th>\n",
              "      <th></th>\n",
              "    </tr>\n",
              "  </thead>\n",
              "  <tbody>\n",
              "    <tr>\n",
              "      <th>16625</th>\n",
              "      <td>88</td>\n",
              "      <td>100</td>\n",
              "      <td>100</td>\n",
              "      <td>97.6</td>\n",
              "    </tr>\n",
              "    <tr>\n",
              "      <th>11446</th>\n",
              "      <td>72</td>\n",
              "      <td>98</td>\n",
              "      <td>94</td>\n",
              "      <td>90.8</td>\n",
              "    </tr>\n",
              "    <tr>\n",
              "      <th>15748</th>\n",
              "      <td>97</td>\n",
              "      <td>72</td>\n",
              "      <td>99</td>\n",
              "      <td>90.5</td>\n",
              "    </tr>\n",
              "    <tr>\n",
              "      <th>11617</th>\n",
              "      <td>87</td>\n",
              "      <td>84</td>\n",
              "      <td>94</td>\n",
              "      <td>89.6</td>\n",
              "    </tr>\n",
              "    <tr>\n",
              "      <th>13650</th>\n",
              "      <td>95</td>\n",
              "      <td>80</td>\n",
              "      <td>93</td>\n",
              "      <td>89.5</td>\n",
              "    </tr>\n",
              "  </tbody>\n",
              "</table>\n",
              "</div>"
            ],
            "text/plain": [
              "       퀴즈  중간평가  기말평가    합계\n",
              "id                         \n",
              "16625  88   100   100  97.6\n",
              "11446  72    98    94  90.8\n",
              "15748  97    72    99  90.5\n",
              "11617  87    84    94  89.6\n",
              "13650  95    80    93  89.5"
            ]
          },
          "metadata": {
            "tags": []
          },
          "execution_count": 41
        }
      ]
    },
    {
      "cell_type": "markdown",
      "metadata": {
        "id": "rg0h4Uluz7K5"
      },
      "source": [
        "* 특정 컬럼만 선택하기\n",
        "* filter() 함수를 사용합니다. 입력값에 가져오고 싶은 컬럼명을 리스트 형태로 입력합니다"
      ]
    },
    {
      "cell_type": "code",
      "metadata": {
        "id": "k5gzPo2hz6EJ"
      },
      "source": [
        "grade_final = grade_sort.filter(['기말평가','합계'])"
      ],
      "execution_count": null,
      "outputs": []
    },
    {
      "cell_type": "code",
      "metadata": {
        "id": "a8sCcOga0EBl",
        "colab": {
          "base_uri": "https://localhost:8080/",
          "height": 233
        },
        "outputId": "0c54ca84-9792-4444-b095-8d11ed4675a5"
      },
      "source": [
        "grade_final.head()"
      ],
      "execution_count": null,
      "outputs": [
        {
          "output_type": "execute_result",
          "data": {
            "text/html": [
              "<div>\n",
              "<style scoped>\n",
              "    .dataframe tbody tr th:only-of-type {\n",
              "        vertical-align: middle;\n",
              "    }\n",
              "\n",
              "    .dataframe tbody tr th {\n",
              "        vertical-align: top;\n",
              "    }\n",
              "\n",
              "    .dataframe thead th {\n",
              "        text-align: right;\n",
              "    }\n",
              "</style>\n",
              "<table border=\"1\" class=\"dataframe\">\n",
              "  <thead>\n",
              "    <tr style=\"text-align: right;\">\n",
              "      <th></th>\n",
              "      <th>기말평가</th>\n",
              "      <th>합계</th>\n",
              "    </tr>\n",
              "    <tr>\n",
              "      <th>id</th>\n",
              "      <th></th>\n",
              "      <th></th>\n",
              "    </tr>\n",
              "  </thead>\n",
              "  <tbody>\n",
              "    <tr>\n",
              "      <th>16625</th>\n",
              "      <td>100</td>\n",
              "      <td>97.6</td>\n",
              "    </tr>\n",
              "    <tr>\n",
              "      <th>11446</th>\n",
              "      <td>94</td>\n",
              "      <td>90.8</td>\n",
              "    </tr>\n",
              "    <tr>\n",
              "      <th>15748</th>\n",
              "      <td>99</td>\n",
              "      <td>90.5</td>\n",
              "    </tr>\n",
              "    <tr>\n",
              "      <th>11617</th>\n",
              "      <td>94</td>\n",
              "      <td>89.6</td>\n",
              "    </tr>\n",
              "    <tr>\n",
              "      <th>13650</th>\n",
              "      <td>93</td>\n",
              "      <td>89.5</td>\n",
              "    </tr>\n",
              "  </tbody>\n",
              "</table>\n",
              "</div>"
            ],
            "text/plain": [
              "       기말평가    합계\n",
              "id               \n",
              "16625   100  97.6\n",
              "11446    94  90.8\n",
              "15748    99  90.5\n",
              "11617    94  89.6\n",
              "13650    93  89.5"
            ]
          },
          "metadata": {
            "tags": []
          },
          "execution_count": 43
        }
      ]
    },
    {
      "cell_type": "code",
      "metadata": {
        "id": "08Gu9tz10Gk0"
      },
      "source": [
        ""
      ],
      "execution_count": null,
      "outputs": []
    }
  ]
}