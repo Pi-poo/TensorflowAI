{
  "nbformat": 4,
  "nbformat_minor": 0,
  "metadata": {
    "colab": {
      "name": "11_2_HyperParameter Tuning.ipynb",
      "provenance": [],
      "collapsed_sections": [],
      "include_colab_link": true
    },
    "kernelspec": {
      "name": "python3",
      "display_name": "Python 3"
    },
    "accelerator": "GPU"
  },
  "cells": [
    {
      "cell_type": "markdown",
      "metadata": {
        "id": "view-in-github",
        "colab_type": "text"
      },
      "source": [
        "<a href=\"https://colab.research.google.com/github/joohoshin/TensorflowAI/blob/main/11_2_HyperParameter_Tuning.ipynb\" target=\"_parent\"><img src=\"https://colab.research.google.com/assets/colab-badge.svg\" alt=\"Open In Colab\"/></a>"
      ]
    },
    {
      "cell_type": "markdown",
      "metadata": {
        "id": "M1Iq3mzdEQZA"
      },
      "source": [
        "fasion mnist 정확도를 향상 시켜봅시다"
      ]
    },
    {
      "cell_type": "code",
      "metadata": {
        "colab": {
          "base_uri": "https://localhost:8080/"
        },
        "id": "LpZMAXZil1WB",
        "outputId": "515097b4-d820-4588-9a4b-165794e829ad"
      },
      "source": [
        "import tensorflow as tf\n",
        "import numpy as np\n",
        "\n",
        "(x_train, y_train), (x_test, y_test) = tf.keras.datasets.fashion_mnist.load_data()\n",
        "print(x_train.shape, y_train.shape)"
      ],
      "execution_count": null,
      "outputs": [
        {
          "output_type": "stream",
          "text": [
            "Downloading data from https://storage.googleapis.com/tensorflow/tf-keras-datasets/train-labels-idx1-ubyte.gz\n",
            "32768/29515 [=================================] - 0s 0us/step\n",
            "Downloading data from https://storage.googleapis.com/tensorflow/tf-keras-datasets/train-images-idx3-ubyte.gz\n",
            "26427392/26421880 [==============================] - 0s 0us/step\n",
            "Downloading data from https://storage.googleapis.com/tensorflow/tf-keras-datasets/t10k-labels-idx1-ubyte.gz\n",
            "8192/5148 [===============================================] - 0s 0us/step\n",
            "Downloading data from https://storage.googleapis.com/tensorflow/tf-keras-datasets/t10k-images-idx3-ubyte.gz\n",
            "4423680/4422102 [==============================] - 0s 0us/step\n",
            "(60000, 28, 28) (60000,)\n"
          ],
          "name": "stdout"
        }
      ]
    },
    {
      "cell_type": "code",
      "metadata": {
        "id": "c0TT6SmfunRd"
      },
      "source": [
        "class_names = ['T-shirt/top', 'Trouser', 'Pullover', 'Dress', 'Coat',\n",
        "               'Sandal', 'Shirt', 'Sneaker', 'Bag', 'Ankle boot']               "
      ],
      "execution_count": null,
      "outputs": []
    },
    {
      "cell_type": "code",
      "metadata": {
        "id": "Xw8_LrVvjXH_"
      },
      "source": [
        "num_classes = 10\n",
        "\n",
        "y_train = tf.keras.utils.to_categorical(y_train, num_classes)\n",
        "y_test = tf.keras.utils.to_categorical(y_test, num_classes)\n",
        "\n",
        "x_train = np.expand_dims(x_train, axis=3)\n",
        "x_test = np.expand_dims(x_test, axis=3)\n",
        "\n",
        "x_train = x_train/255\n",
        "x_test = x_test/255"
      ],
      "execution_count": null,
      "outputs": []
    },
    {
      "cell_type": "code",
      "metadata": {
        "id": "BTorYTAlES-e"
      },
      "source": [
        "from tensorflow.keras import layers, models\n",
        "\n",
        "# model = models.Sequential()\n",
        "# model.add(layers.Conv2D(32,(5,5), padding='valid', activation='relu', input_shape=(28,28,1)))\n",
        "# model.add(layers.MaxPool2D(2,2))\n",
        "# model.add(layers.Flatten())\n",
        "# model.add(layers.Dense(1024, activation='relu'))\n",
        "# model.add(layers.Dropout(0.5))\n",
        "# model.add(layers.Dense(10, activation='softmax'))\n",
        "# model.summary()\n",
        "\n",
        "# model.compile(loss='categorical_crossentropy', optimizer='adam', metrics=['acc'])\n",
        "\n",
        "# epochs = 20\n",
        "# history = model.fit(x_train, y_train, batch_size=64,\n",
        "#           epochs=epochs, validation_data=(x_test, y_test))"
      ],
      "execution_count": null,
      "outputs": []
    },
    {
      "cell_type": "code",
      "metadata": {
        "id": "ckxP1wuagxgN",
        "colab": {
          "base_uri": "https://localhost:8080/"
        },
        "outputId": "4b0af329-1d06-417d-a6ea-8d9fd7920695"
      },
      "source": [
        "!pip install -q -U keras-tuner"
      ],
      "execution_count": null,
      "outputs": [
        {
          "output_type": "stream",
          "text": [
            "\u001b[?25l\r\u001b[K     |█████▏                          | 10kB 25.4MB/s eta 0:00:01\r\u001b[K     |██████████▍                     | 20kB 19.0MB/s eta 0:00:01\r\u001b[K     |███████████████▋                | 30kB 15.2MB/s eta 0:00:01\r\u001b[K     |████████████████████▉           | 40kB 14.1MB/s eta 0:00:01\r\u001b[K     |██████████████████████████      | 51kB 9.2MB/s eta 0:00:01\r\u001b[K     |███████████████████████████████▎| 61kB 9.7MB/s eta 0:00:01\r\u001b[K     |████████████████████████████████| 71kB 5.9MB/s \n",
            "\u001b[?25h  Building wheel for keras-tuner (setup.py) ... \u001b[?25l\u001b[?25hdone\n",
            "  Building wheel for terminaltables (setup.py) ... \u001b[?25l\u001b[?25hdone\n"
          ],
          "name": "stdout"
        }
      ]
    },
    {
      "cell_type": "code",
      "metadata": {
        "id": "H4Fe6OXXjt9f"
      },
      "source": [
        "import kerastuner as kt"
      ],
      "execution_count": null,
      "outputs": []
    },
    {
      "cell_type": "code",
      "metadata": {
        "id": "V4gz5brujv8d"
      },
      "source": [
        "from tensorflow.keras import layers, models\n",
        "\n",
        "def model_builder(hp):\n",
        "  model = models.Sequential()\n",
        "  model.add(layers.Conv2D(32,(5,5), padding='valid', activation='relu', input_shape=(28,28,1)))\n",
        "  model.add(layers.MaxPool2D(2,2))\n",
        "  model.add(layers.Flatten())\n",
        "\n",
        "  # Dense Layer Output size 바꾸기 위해서 변수 선언\n",
        "  hp_units = hp.Int('units', min_value = 512, max_value = 2048, step = 512)\n",
        "    \n",
        "  # units에 변수로 입력\n",
        "  model.add(layers.Dense(units = hp_units, activation = 'relu'))\n",
        "\n",
        "  model.add(layers.Dropout(0.5))\n",
        "  model.add(layers.Dense(10, activation='softmax'))\n",
        "  model.summary()\n",
        "\n",
        "  # Adam Optimizer 학습률 선택지\n",
        "  hp_learning_rate = hp.Choice('learning_rate', values = [1e-2, 1e-3, 1e-4]) \n",
        "\n",
        "  # Optimizer에 학습률 변수를 넣기 위해서 keras.optimizers.Adam 사용\n",
        "  model.compile(optimizer = tf.keras.optimizers.Adam(learning_rate = hp_learning_rate),\n",
        "                loss='categorical_crossentropy', \n",
        "                metrics = ['accuracy'])\n",
        "  return model\n"
      ],
      "execution_count": null,
      "outputs": []
    },
    {
      "cell_type": "code",
      "metadata": {
        "colab": {
          "base_uri": "https://localhost:8080/"
        },
        "id": "W1BsO1gqkc0t",
        "outputId": "e5f1cd5f-3806-44e5-e321-ec7b199b9557"
      },
      "source": [
        "# 인스턴스 만들기\n",
        "tuner = kt.RandomSearch(model_builder,\n",
        "                     objective = 'val_accuracy', \n",
        "                     max_trials = 10)    "
      ],
      "execution_count": null,
      "outputs": [
        {
          "output_type": "stream",
          "text": [
            "Model: \"sequential\"\n",
            "_________________________________________________________________\n",
            "Layer (type)                 Output Shape              Param #   \n",
            "=================================================================\n",
            "conv2d (Conv2D)              (None, 24, 24, 32)        832       \n",
            "_________________________________________________________________\n",
            "max_pooling2d (MaxPooling2D) (None, 12, 12, 32)        0         \n",
            "_________________________________________________________________\n",
            "flatten (Flatten)            (None, 4608)              0         \n",
            "_________________________________________________________________\n",
            "dense (Dense)                (None, 512)               2359808   \n",
            "_________________________________________________________________\n",
            "dropout (Dropout)            (None, 512)               0         \n",
            "_________________________________________________________________\n",
            "dense_1 (Dense)              (None, 10)                5130      \n",
            "=================================================================\n",
            "Total params: 2,365,770\n",
            "Trainable params: 2,365,770\n",
            "Non-trainable params: 0\n",
            "_________________________________________________________________\n"
          ],
          "name": "stdout"
        }
      ]
    },
    {
      "cell_type": "code",
      "metadata": {
        "colab": {
          "base_uri": "https://localhost:8080/"
        },
        "id": "oyGizn1mkgAd",
        "outputId": "86cdccdb-1eb4-41ec-b49c-6b2afc8f6be9"
      },
      "source": [
        "tuner.search(x_train, y_train, epochs = 10, validation_data = (x_test, y_test))"
      ],
      "execution_count": null,
      "outputs": [
        {
          "output_type": "stream",
          "text": [
            "Trial 10 Complete [00h 01m 07s]\n",
            "val_accuracy: 0.9125000238418579\n",
            "\n",
            "Best val_accuracy So Far: 0.9157999753952026\n",
            "Total elapsed time: 00h 10m 27s\n",
            "INFO:tensorflow:Oracle triggered exit\n"
          ],
          "name": "stdout"
        }
      ]
    },
    {
      "cell_type": "code",
      "metadata": {
        "id": "mDgq6p6kk0XF"
      },
      "source": [
        "best_hps = tuner.get_best_hyperparameters(num_trials = 1)[0]"
      ],
      "execution_count": null,
      "outputs": []
    },
    {
      "cell_type": "code",
      "metadata": {
        "colab": {
          "base_uri": "https://localhost:8080/"
        },
        "id": "lQOcoMaSMZ9S",
        "outputId": "98a60506-074e-4acb-a27a-f7b3cdf4c439"
      },
      "source": [
        "best_hps.values"
      ],
      "execution_count": null,
      "outputs": [
        {
          "output_type": "execute_result",
          "data": {
            "text/plain": [
              "{'learning_rate': 0.001, 'units': 1024}"
            ]
          },
          "metadata": {
            "tags": []
          },
          "execution_count": 11
        }
      ]
    },
    {
      "cell_type": "code",
      "metadata": {
        "colab": {
          "base_uri": "https://localhost:8080/"
        },
        "id": "cX5cHH_7MbsB",
        "outputId": "6d5df8af-eafe-4114-b421-430dd6e7518b"
      },
      "source": [
        "model = tuner.hypermodel.build(best_hps)\n",
        "model.fit(x_train, y_train, epochs = 10, validation_data = (x_test, y_test))"
      ],
      "execution_count": null,
      "outputs": [
        {
          "output_type": "stream",
          "text": [
            "Model: \"sequential\"\n",
            "_________________________________________________________________\n",
            "Layer (type)                 Output Shape              Param #   \n",
            "=================================================================\n",
            "conv2d (Conv2D)              (None, 24, 24, 32)        832       \n",
            "_________________________________________________________________\n",
            "max_pooling2d (MaxPooling2D) (None, 12, 12, 32)        0         \n",
            "_________________________________________________________________\n",
            "flatten (Flatten)            (None, 4608)              0         \n",
            "_________________________________________________________________\n",
            "dense (Dense)                (None, 1024)              4719616   \n",
            "_________________________________________________________________\n",
            "dropout (Dropout)            (None, 1024)              0         \n",
            "_________________________________________________________________\n",
            "dense_1 (Dense)              (None, 10)                10250     \n",
            "=================================================================\n",
            "Total params: 4,730,698\n",
            "Trainable params: 4,730,698\n",
            "Non-trainable params: 0\n",
            "_________________________________________________________________\n",
            "Epoch 1/10\n",
            "1875/1875 [==============================] - 6s 3ms/step - loss: 0.5286 - accuracy: 0.8115 - val_loss: 0.3302 - val_accuracy: 0.8785\n",
            "Epoch 2/10\n",
            "1875/1875 [==============================] - 6s 3ms/step - loss: 0.2944 - accuracy: 0.8915 - val_loss: 0.2913 - val_accuracy: 0.8915\n",
            "Epoch 3/10\n",
            "1875/1875 [==============================] - 6s 3ms/step - loss: 0.2499 - accuracy: 0.9061 - val_loss: 0.2716 - val_accuracy: 0.8997\n",
            "Epoch 4/10\n",
            "1875/1875 [==============================] - 6s 3ms/step - loss: 0.2175 - accuracy: 0.9193 - val_loss: 0.2627 - val_accuracy: 0.9090\n",
            "Epoch 5/10\n",
            "1875/1875 [==============================] - 5s 3ms/step - loss: 0.1918 - accuracy: 0.9274 - val_loss: 0.2764 - val_accuracy: 0.9047\n",
            "Epoch 6/10\n",
            "1875/1875 [==============================] - 6s 3ms/step - loss: 0.1752 - accuracy: 0.9346 - val_loss: 0.2569 - val_accuracy: 0.9112\n",
            "Epoch 7/10\n",
            "1875/1875 [==============================] - 5s 3ms/step - loss: 0.1507 - accuracy: 0.9427 - val_loss: 0.2745 - val_accuracy: 0.9092\n",
            "Epoch 8/10\n",
            "1875/1875 [==============================] - 6s 3ms/step - loss: 0.1414 - accuracy: 0.9466 - val_loss: 0.2759 - val_accuracy: 0.9110\n",
            "Epoch 9/10\n",
            "1875/1875 [==============================] - 6s 3ms/step - loss: 0.1279 - accuracy: 0.9528 - val_loss: 0.2964 - val_accuracy: 0.9133\n",
            "Epoch 10/10\n",
            "1875/1875 [==============================] - 5s 3ms/step - loss: 0.1140 - accuracy: 0.9583 - val_loss: 0.3212 - val_accuracy: 0.9087\n"
          ],
          "name": "stdout"
        },
        {
          "output_type": "execute_result",
          "data": {
            "text/plain": [
              "<tensorflow.python.keras.callbacks.History at 0x7fec7e1ad5d0>"
            ]
          },
          "metadata": {
            "tags": []
          },
          "execution_count": 13
        }
      ]
    },
    {
      "cell_type": "markdown",
      "metadata": {
        "id": "716rlk-JNM8j"
      },
      "source": [
        "https://www.tensorflow.org/tutorials/keras/keras_tuner"
      ]
    },
    {
      "cell_type": "code",
      "metadata": {
        "id": "zPDyppHvMji5"
      },
      "source": [
        ""
      ],
      "execution_count": null,
      "outputs": []
    }
  ]
}